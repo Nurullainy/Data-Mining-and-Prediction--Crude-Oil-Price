{
 "cells": [
  {
   "cell_type": "markdown",
   "metadata": {},
   "source": [
    "## Nurullainy binti Mat Rashid\n",
    "## Project Title: Crude Oil Price Prediction\n",
    "### Milestone 4: Data Interpretation & Communication of Insights of data  \n",
    "\n",
    "### Building Recurrent Neural Network (RNN)"
   ]
  },
  {
   "cell_type": "code",
   "execution_count": 1,
   "metadata": {},
   "outputs": [
    {
     "name": "stderr",
     "output_type": "stream",
     "text": [
      "Using TensorFlow backend.\n"
     ]
    }
   ],
   "source": [
    "import numpy as np\n",
    "import pandas as pd\n",
    "import matplotlib.pyplot as plt\n",
    "from sklearn.preprocessing import MinMaxScaler\n",
    "from sklearn import metrics\n",
    "from keras.models import Sequential\n",
    "from keras.layers import Dense\n",
    "from keras.layers import LSTM\n",
    "from keras.layers import Dropout\n",
    "import pickle"
   ]
  },
  {
   "cell_type": "markdown",
   "metadata": {},
   "source": [
    "Make sure to install Keras deep learning library and other dependencies on your system\n",
    "\n",
    "Keras is designed to enable fast experimentation with deep neural networks, it focuses on being user-friendly and extensible. Futhermore, it is easy to develop deep learning models regardless of the computational backend such as Tensorflow, Microsoft Cognitive Toolkit or R"
   ]
  },
  {
   "cell_type": "markdown",
   "metadata": {},
   "source": [
    "### Data Preparation"
   ]
  },
  {
   "cell_type": "code",
   "execution_count": 2,
   "metadata": {},
   "outputs": [],
   "source": [
    "# Load dataset\n",
    "df_train = pd.read_csv('/Volumes/Lainy 1T WD/WQD7005 Data Mining /Assignment /M4 - Data Intrepetation/Crude Oil Data/oilprice_trend_train.csv')\n",
    "\n",
    "# This will be input into the scaler\n",
    "training_set = df_train[['Close_Price']]"
   ]
  },
  {
   "cell_type": "code",
   "execution_count": 3,
   "metadata": {},
   "outputs": [],
   "source": [
    "# Feature Scaling\n",
    "# Recommended to use normalization (min and max) instead of standardisation (mean and std) in LSTM (Keras) \n",
    "\n",
    "sc = MinMaxScaler(feature_range=(0,1))\n",
    "training_set_scaled = sc.fit_transform(training_set)"
   ]
  },
  {
   "cell_type": "markdown",
   "metadata": {},
   "source": [
    "Specify a data structure to tell LSTM the number of timestep and other parameters to remember in RNN\n",
    "\n",
    "Wrong number or inaccuracy of parameters could lead to overfitting or irrelevant predictions\n",
    "\n",
    "I will create a data structure with 60 timesteps and 1 output. Meaning 60 timestep per sequence\n",
    "\n",
    "60 timesteps means the RNN will refer to the previous 60 timestep to predict an output\n",
    "\n",
    "In our case, our timestep is in days. RNN will look at the historical 60 days data from the current day\n",
    "\n",
    "By experiment, 60 turns out to be the best choice for timesteps in time series analysis (Experiment: 10,20,20..60)\n",
    "\n",
    "1 month have roughly 20 financial day, thus 60 days = 3 previous month"
   ]
  },
  {
   "cell_type": "code",
   "execution_count": 4,
   "metadata": {},
   "outputs": [],
   "source": [
    "X_train = [] # X-train, the input to RNN that contain the crude oil price of previous 60 previous timestep\n",
    "y_train = [] # y_train, contain the crude oil price of the the current time step (60th) \n",
    "\n",
    "for i in range(2,1457): # Start prediction at the 60th days as our timestep is 60 till the final data\n",
    "    X_train.append(training_set_scaled[i-2:i,0]) # Data from day 0-59 will be used to predict price at day 60\n",
    "    y_train.append(training_set_scaled[i,0])\n",
    "X_train, y_train = np.array(X_train), np.array(y_train)"
   ]
  },
  {
   "cell_type": "markdown",
   "metadata": {},
   "source": [
    "Reshaping / data transformation to fulfill the input shape require by Keras and add dimension to the x_train\n",
    "\n",
    "Add other features/ indicator beside the 'Close Price' column"
   ]
  },
  {
   "cell_type": "code",
   "execution_count": 5,
   "metadata": {},
   "outputs": [],
   "source": [
    "#  Batch size, time step, number of indicator in our case = 1\n",
    "\n",
    "X_train = np.reshape(X_train, (X_train.shape[0], X_train.shape[1], 1))"
   ]
  },
  {
   "cell_type": "markdown",
   "metadata": {},
   "source": [
    "### Building Recurrent Neural Network (RNN) using LSTM Layer"
   ]
  },
  {
   "cell_type": "markdown",
   "metadata": {},
   "source": [
    "Long Short Term (LSTM) is one of type of networks in RNN that uses special additional units to the standard units in Keras module (CNN). \n",
    "\n",
    "During the training of RNN, as the information goes in loop again and again resulting in very large updates to neural network model weights. Hence, LSTM was designed to solve this problem of unstable neural network.\n",
    "\n",
    "LSTM units include a 'memory cell' that can maintain information in memory for long periods of time. A set of gates is used to control when information enters the memory, when it's output, and when it's forgotten. This architecture lets them learn longer-term dependencies and work best for this dataset."
   ]
  },
  {
   "cell_type": "code",
   "execution_count": 6,
   "metadata": {},
   "outputs": [],
   "source": [
    "# Initialize\n",
    "# We set the variable as 'regressor' because the result of the prediction is a continuous value\n",
    "\n",
    "regressor = Sequential() # Sequential() best for time series data"
   ]
  },
  {
   "cell_type": "markdown",
   "metadata": {},
   "source": [
    "units = number of neurons in LSTM layers (too small units will not be able to capture the previous trend)\n",
    "\n",
    "return_sequence = True if using stacked RNN. For the last layer of RNN, return_sequence = False\n",
    "\n",
    "input shape = batch size or number of data is automatically taken into account. Eg: number of time step, number of indicator"
   ]
  },
  {
   "cell_type": "code",
   "execution_count": 7,
   "metadata": {},
   "outputs": [],
   "source": [
    "# Adding 1st RNN layer\n",
    "\n",
    "regressor.add(LSTM(units = 50, return_sequences = True, input_shape = (X_train.shape[1],1)))\n",
    "regressor.add(Dropout(rate=0.2))"
   ]
  },
  {
   "cell_type": "markdown",
   "metadata": {},
   "source": [
    "Dropout = is a regularization technique for reducing overfitting in neural networks by preventing complex co-adaptations on training data. It is an efficient way of performing model averaging with neural networks. Float between 0 and 1. Fraction of the units to drop for the linear transformation of the inputs. This value is the percentage of the considered network connections per epoch/batch. Default: 0. We use = 0.2\n",
    "\n",
    "Optimizer = stochastic gradient descent method that computes individual adaptive learning rates for different parameters from estimates of first- and second-order moments of the gradients. Use Adam algorithm"
   ]
  },
  {
   "cell_type": "code",
   "execution_count": 8,
   "metadata": {},
   "outputs": [],
   "source": [
    "# Adding 2nd LSTM layer\n",
    "regressor.add(LSTM(units = 50, return_sequences = True))\n",
    "regressor.add(Dropout(rate=0.2))\n",
    "\n",
    "# Adding 3rd LSTM layer\n",
    "regressor.add(LSTM(units = 50, return_sequences = True))\n",
    "regressor.add(Dropout(rate=0.2))\n",
    "\n",
    "# Adding 4th LSTM layer\n",
    "regressor.add(LSTM(units = 50))\n",
    "regressor.add(Dropout(rate=0.2))\n",
    "\n",
    "# Add output layer\n",
    "regressor.add(Dense(units=1))\n",
    "\n",
    "# Compile\n",
    "regressor.compile(optimizer='adam',loss='mean_squared_error') # Outliers concerned over residuals"
   ]
  },
  {
   "cell_type": "markdown",
   "metadata": {},
   "source": [
    "batch_size = number of samples to work through before updating the internal model parameters.\n",
    "\n",
    "epochs = number times that the learning algorithm will work through the entire training dataset"
   ]
  },
  {
   "cell_type": "code",
   "execution_count": 22,
   "metadata": {},
   "outputs": [
    {
     "name": "stdout",
     "output_type": "stream",
     "text": [
      "Epoch 1/70\n",
      "1455/1455 [==============================] - 0s 238us/step - loss: 0.0024\n",
      "Epoch 2/70\n",
      "1455/1455 [==============================] - 0s 212us/step - loss: 0.0024\n",
      "Epoch 3/70\n",
      "1455/1455 [==============================] - 0s 215us/step - loss: 0.0024\n",
      "Epoch 4/70\n",
      "1455/1455 [==============================] - 0s 212us/step - loss: 0.0024\n",
      "Epoch 5/70\n",
      "1455/1455 [==============================] - 0s 212us/step - loss: 0.0023\n",
      "Epoch 6/70\n",
      "1455/1455 [==============================] - 0s 213us/step - loss: 0.0024\n",
      "Epoch 7/70\n",
      "1455/1455 [==============================] - 0s 201us/step - loss: 0.0023\n",
      "Epoch 8/70\n",
      "1455/1455 [==============================] - 0s 210us/step - loss: 0.0025\n",
      "Epoch 9/70\n",
      "1455/1455 [==============================] - 0s 217us/step - loss: 0.0023\n",
      "Epoch 10/70\n",
      "1455/1455 [==============================] - 0s 218us/step - loss: 0.0024\n",
      "Epoch 11/70\n",
      "1455/1455 [==============================] - 0s 206us/step - loss: 0.0023\n",
      "Epoch 12/70\n",
      "1455/1455 [==============================] - 0s 207us/step - loss: 0.0023\n",
      "Epoch 13/70\n",
      "1455/1455 [==============================] - 0s 221us/step - loss: 0.0024\n",
      "Epoch 14/70\n",
      "1455/1455 [==============================] - 0s 196us/step - loss: 0.0022\n",
      "Epoch 15/70\n",
      "1455/1455 [==============================] - 0s 217us/step - loss: 0.0023\n",
      "Epoch 16/70\n",
      "1455/1455 [==============================] - 0s 200us/step - loss: 0.0023\n",
      "Epoch 17/70\n",
      "1455/1455 [==============================] - 0s 211us/step - loss: 0.0023\n",
      "Epoch 18/70\n",
      "1455/1455 [==============================] - 0s 207us/step - loss: 0.0024\n",
      "Epoch 19/70\n",
      "1455/1455 [==============================] - 0s 207us/step - loss: 0.0024\n",
      "Epoch 20/70\n",
      "1455/1455 [==============================] - 0s 211us/step - loss: 0.0025\n",
      "Epoch 21/70\n",
      "1455/1455 [==============================] - 0s 208us/step - loss: 0.0022\n",
      "Epoch 22/70\n",
      "1455/1455 [==============================] - 0s 209us/step - loss: 0.0023\n",
      "Epoch 23/70\n",
      "1455/1455 [==============================] - 0s 222us/step - loss: 0.0023\n",
      "Epoch 24/70\n",
      "1455/1455 [==============================] - 0s 212us/step - loss: 0.0023\n",
      "Epoch 25/70\n",
      "1455/1455 [==============================] - 0s 285us/step - loss: 0.0023\n",
      "Epoch 26/70\n",
      "1455/1455 [==============================] - 0s 211us/step - loss: 0.0023\n",
      "Epoch 27/70\n",
      "1455/1455 [==============================] - 0s 219us/step - loss: 0.0023\n",
      "Epoch 28/70\n",
      "1455/1455 [==============================] - 0s 238us/step - loss: 0.0024\n",
      "Epoch 29/70\n",
      "1455/1455 [==============================] - 0s 201us/step - loss: 0.0023\n",
      "Epoch 30/70\n",
      "1455/1455 [==============================] - 0s 219us/step - loss: 0.0023\n",
      "Epoch 31/70\n",
      "1455/1455 [==============================] - 0s 213us/step - loss: 0.0023\n",
      "Epoch 32/70\n",
      "1455/1455 [==============================] - 0s 217us/step - loss: 0.0022\n",
      "Epoch 33/70\n",
      "1455/1455 [==============================] - 0s 236us/step - loss: 0.0022\n",
      "Epoch 34/70\n",
      "1455/1455 [==============================] - 0s 248us/step - loss: 0.0023\n",
      "Epoch 35/70\n",
      "1455/1455 [==============================] - 0s 238us/step - loss: 0.0024\n",
      "Epoch 36/70\n",
      "1455/1455 [==============================] - 0s 217us/step - loss: 0.0023\n",
      "Epoch 37/70\n",
      "1455/1455 [==============================] - 0s 226us/step - loss: 0.0023\n",
      "Epoch 38/70\n",
      "1455/1455 [==============================] - 0s 231us/step - loss: 0.0023\n",
      "Epoch 39/70\n",
      "1455/1455 [==============================] - 0s 250us/step - loss: 0.0024\n",
      "Epoch 40/70\n",
      "1455/1455 [==============================] - 0s 206us/step - loss: 0.0023\n",
      "Epoch 41/70\n",
      "1455/1455 [==============================] - 0s 226us/step - loss: 0.0022\n",
      "Epoch 42/70\n",
      "1455/1455 [==============================] - 0s 208us/step - loss: 0.0022\n",
      "Epoch 43/70\n",
      "1455/1455 [==============================] - 0s 281us/step - loss: 0.0022\n",
      "Epoch 44/70\n",
      "1455/1455 [==============================] - 0s 253us/step - loss: 0.0022\n",
      "Epoch 45/70\n",
      "1455/1455 [==============================] - 0s 285us/step - loss: 0.0022\n",
      "Epoch 46/70\n",
      "1455/1455 [==============================] - 0s 208us/step - loss: 0.0023\n",
      "Epoch 47/70\n",
      "1455/1455 [==============================] - 0s 225us/step - loss: 0.0023\n",
      "Epoch 48/70\n",
      "1455/1455 [==============================] - 0s 201us/step - loss: 0.0023\n",
      "Epoch 49/70\n",
      "1455/1455 [==============================] - 0s 227us/step - loss: 0.0022\n",
      "Epoch 50/70\n",
      "1455/1455 [==============================] - 0s 225us/step - loss: 0.0023\n",
      "Epoch 51/70\n",
      "1455/1455 [==============================] - 0s 214us/step - loss: 0.0023\n",
      "Epoch 52/70\n",
      "1455/1455 [==============================] - 0s 228us/step - loss: 0.0023\n",
      "Epoch 53/70\n",
      "1455/1455 [==============================] - 0s 214us/step - loss: 0.0023\n",
      "Epoch 54/70\n",
      "1455/1455 [==============================] - 0s 247us/step - loss: 0.0023\n",
      "Epoch 55/70\n",
      "1455/1455 [==============================] - 0s 227us/step - loss: 0.0023\n",
      "Epoch 56/70\n",
      "1455/1455 [==============================] - 0s 211us/step - loss: 0.0023\n",
      "Epoch 57/70\n",
      "1455/1455 [==============================] - 0s 209us/step - loss: 0.0022\n",
      "Epoch 58/70\n",
      "1455/1455 [==============================] - 0s 230us/step - loss: 0.0023\n",
      "Epoch 59/70\n",
      "1455/1455 [==============================] - 0s 218us/step - loss: 0.0022\n",
      "Epoch 60/70\n",
      "1455/1455 [==============================] - 0s 205us/step - loss: 0.0023\n",
      "Epoch 61/70\n",
      "1455/1455 [==============================] - 0s 203us/step - loss: 0.0023\n",
      "Epoch 62/70\n",
      "1455/1455 [==============================] - 0s 201us/step - loss: 0.0023\n",
      "Epoch 63/70\n",
      "1455/1455 [==============================] - 0s 191us/step - loss: 0.0023\n",
      "Epoch 64/70\n",
      "1455/1455 [==============================] - 0s 211us/step - loss: 0.0022\n",
      "Epoch 65/70\n",
      "1455/1455 [==============================] - 0s 223us/step - loss: 0.0024\n",
      "Epoch 66/70\n",
      "1455/1455 [==============================] - 0s 219us/step - loss: 0.0022\n",
      "Epoch 67/70\n",
      "1455/1455 [==============================] - 0s 213us/step - loss: 0.0023\n",
      "Epoch 68/70\n",
      "1455/1455 [==============================] - 0s 214us/step - loss: 0.0023\n",
      "Epoch 69/70\n",
      "1455/1455 [==============================] - 0s 208us/step - loss: 0.0023\n",
      "Epoch 70/70\n",
      "1455/1455 [==============================] - 0s 227us/step - loss: 0.0023\n"
     ]
    },
    {
     "data": {
      "text/plain": [
       "<keras.callbacks.callbacks.History at 0x1447e6c50>"
      ]
     },
     "execution_count": 22,
     "metadata": {},
     "output_type": "execute_result"
    }
   ],
   "source": [
    "# Fit the RNN to training data\n",
    "\n",
    "regressor.fit(X_train,y_train,batch_size=35,epochs=70)"
   ]
  },
  {
   "cell_type": "markdown",
   "metadata": {},
   "source": [
    "### Crude Oil Price Prediction"
   ]
  },
  {
   "cell_type": "code",
   "execution_count": 23,
   "metadata": {},
   "outputs": [],
   "source": [
    "# Load Test Set\n",
    "df_test = pd.read_csv('/Volumes/Lainy 1T WD/WQD7005 Data Mining /Assignment /M4 - Data Intrepetation/Crude Oil Data/oilprice_trend_test.csv')\n",
    "actual_oil_price = df_test[['Close_Price']]\n",
    "\n",
    "# Concatenate the training set and test set\n",
    "df_total = pd.concat((df_train['Close_Price'],df_test['Close_Price']),axis=0)\n",
    "inputs = df_total[(len(df_total) - len(df_test) - 60):].values\n",
    "inputs = inputs.reshape(-1,1)\n",
    "inputs_scaled = sc.transform(inputs)\n",
    "\n",
    "X_test = [] \n",
    "y_test = []\n",
    "\n",
    "for i in range(2,367):\n",
    "    X_test.append(inputs_scaled[i-2:i,0])\n",
    "    y_test.append(inputs_scaled[i,0])\n",
    "X_test= np.array(X_test)\n",
    "X_test = np.reshape(X_test,(X_test.shape[0],X_test.shape[1],1))\n",
    "\n",
    "predicted_oil_price = regressor.predict(X_test)\n",
    "predicted_oil_price = sc.inverse_transform(predicted_oil_price)"
   ]
  },
  {
   "cell_type": "code",
   "execution_count": 24,
   "metadata": {},
   "outputs": [
    {
     "name": "stdout",
     "output_type": "stream",
     "text": [
      "Model: \"sequential_1\"\n",
      "_________________________________________________________________\n",
      "Layer (type)                 Output Shape              Param #   \n",
      "=================================================================\n",
      "lstm_1 (LSTM)                (None, 2, 50)             10400     \n",
      "_________________________________________________________________\n",
      "dropout_1 (Dropout)          (None, 2, 50)             0         \n",
      "_________________________________________________________________\n",
      "lstm_2 (LSTM)                (None, 2, 50)             20200     \n",
      "_________________________________________________________________\n",
      "dropout_2 (Dropout)          (None, 2, 50)             0         \n",
      "_________________________________________________________________\n",
      "lstm_3 (LSTM)                (None, 2, 50)             20200     \n",
      "_________________________________________________________________\n",
      "dropout_3 (Dropout)          (None, 2, 50)             0         \n",
      "_________________________________________________________________\n",
      "lstm_4 (LSTM)                (None, 50)                20200     \n",
      "_________________________________________________________________\n",
      "dropout_4 (Dropout)          (None, 50)                0         \n",
      "_________________________________________________________________\n",
      "dense_1 (Dense)              (None, 1)                 51        \n",
      "=================================================================\n",
      "Total params: 71,051\n",
      "Trainable params: 71,051\n",
      "Non-trainable params: 0\n",
      "_________________________________________________________________\n"
     ]
    }
   ],
   "source": [
    "regressor.summary()"
   ]
  },
  {
   "cell_type": "markdown",
   "metadata": {},
   "source": [
    "### Actual vs Prediction Data Visualization"
   ]
  },
  {
   "cell_type": "code",
   "execution_count": 27,
   "metadata": {},
   "outputs": [
    {
     "data": {
      "text/plain": [
       "Text(0, 0.5, 'Oil Price')"
      ]
     },
     "execution_count": 27,
     "metadata": {},
     "output_type": "execute_result"
    },
    {
     "data": {
      "image/png": "[encoded data removed]",
      "text/plain": [
       "<Figure size 432x288 with 1 Axes>"
      ]
     },
     "metadata": {
      "needs_background": "light"
     },
     "output_type": "display_data"
    }
   ],
   "source": [
    "plt.plot(actual_oil_price, color='blue', label='Actual Price')\n",
    "plt.plot(predicted_oil_price, color='red', label='Predicted Price')\n",
    "plt.legend()\n",
    "plt.title('Actual vs Predicted Oil Price')\n",
    "plt.xlabel('time')\n",
    "plt.ylabel('Oil Price')"
   ]
  },
  {
   "cell_type": "markdown",
   "metadata": {},
   "source": [
    "### Evaluate the model using Error Metrics"
   ]
  },
  {
   "cell_type": "code",
   "execution_count": 28,
   "metadata": {},
   "outputs": [
    {
     "name": "stdout",
     "output_type": "stream",
     "text": [
      "MAE: 8.389948528185199\n",
      "MAPE: 28.06170923522378\n",
      "MSE: 124.91020176276663\n",
      "RMSE: 11.17632326674415\n",
      "R2: 0.24662281630061156\n"
     ]
    }
   ],
   "source": [
    "# Define a function for MAPE as there is no built-in function in Keras module\n",
    "\n",
    "def mean_absolute_percentage_error(y_true, y_pred):\n",
    "    y_true, y_pred = np.array(y_true), np.array(y_pred)\n",
    "    return np.mean(np.abs((y_true - y_pred) / y_true)) * 100\n",
    "\n",
    "\n",
    "print('MAE:', metrics.mean_absolute_error(actual_oil_price[:365], predicted_oil_price))\n",
    "print('MAPE:', mean_absolute_percentage_error(actual_oil_price[:365], predicted_oil_price)) \n",
    "print('MSE:', metrics.mean_squared_error(actual_oil_price[:365], predicted_oil_price))\n",
    "print('RMSE:', np.sqrt(metrics.mean_squared_error(actual_oil_price[:365], predicted_oil_price)))\n",
    "print('R2:', metrics.r2_score(actual_oil_price[:365], predicted_oil_price)) "
   ]
  },
  {
   "cell_type": "code",
   "execution_count": 36,
   "metadata": {},
   "outputs": [],
   "source": [
    "# Export to pickle file\n",
    "\n",
    "pickle.dump(regressor, open('RNNmodel.pkl','wb'))"
   ]
  },
  {
   "cell_type": "code",
   "execution_count": null,
   "metadata": {},
   "outputs": [],
   "source": []
  }
 ],
 "metadata": {
  "kernelspec": {
   "display_name": "Python 3",
   "language": "python",
   "name": "python3"
  },
  "language_info": {
   "codemirror_mode": {
    "name": "ipython",
    "version": 3
   },
   "file_extension": ".py",
   "mimetype": "text/x-python",
   "name": "python",
   "nbconvert_exporter": "python",
   "pygments_lexer": "ipython3",
   "version": "3.6.5"
  }
 },
 "nbformat": 4,
 "nbformat_minor": 4
}
