{
 "cells": [
  {
   "cell_type": "code",
   "execution_count": 4,
   "metadata": {},
   "outputs": [],
   "source": [
    "import pandas as pd\n",
    "import re\n",
    "from textblob import TextBlob"
   ]
  },
  {
   "cell_type": "code",
   "execution_count": 5,
   "metadata": {},
   "outputs": [],
   "source": [
    "# Read data from csv file\n",
    "\n",
    "newsdata = pd.read_csv('news_preprocessed.csv')"
   ]
  },
  {
   "cell_type": "code",
   "execution_count": 6,
   "metadata": {},
   "outputs": [
    {
     "data": {
      "text/html": [
       "<div>\n",
       "<style scoped>\n",
       "    .dataframe tbody tr th:only-of-type {\n",
       "        vertical-align: middle;\n",
       "    }\n",
       "\n",
       "    .dataframe tbody tr th {\n",
       "        vertical-align: top;\n",
       "    }\n",
       "\n",
       "    .dataframe thead th {\n",
       "        text-align: right;\n",
       "    }\n",
       "</style>\n",
       "<table border=\"1\" class=\"dataframe\">\n",
       "  <thead>\n",
       "    <tr style=\"text-align: right;\">\n",
       "      <th></th>\n",
       "      <th>Date</th>\n",
       "      <th>news_headline</th>\n",
       "    </tr>\n",
       "  </thead>\n",
       "  <tbody>\n",
       "    <tr>\n",
       "      <th>0</th>\n",
       "      <td>02-06-2020</td>\n",
       "      <td>UPDATE 1-U.S. shale producers begin restoring ...</td>\n",
       "    </tr>\n",
       "    <tr>\n",
       "      <th>1</th>\n",
       "      <td>02-06-2020</td>\n",
       "      <td>UPDATE 1-U.S. sanctions four shipping firms fo...</td>\n",
       "    </tr>\n",
       "    <tr>\n",
       "      <th>2</th>\n",
       "      <td>02-06-2020</td>\n",
       "      <td>Solar power to remain 'important and consisten...</td>\n",
       "    </tr>\n",
       "    <tr>\n",
       "      <th>3</th>\n",
       "      <td>02-06-2020</td>\n",
       "      <td>Record gold price against Aussie dollar impact...</td>\n",
       "    </tr>\n",
       "    <tr>\n",
       "      <th>4</th>\n",
       "      <td>02-06-2020</td>\n",
       "      <td>Contact Gold Receives Permits for Drilling at ...</td>\n",
       "    </tr>\n",
       "    <tr>\n",
       "      <th>5</th>\n",
       "      <td>02-06-2020</td>\n",
       "      <td>Oil prices rise ahead of OPEC+ meeting on exte...</td>\n",
       "    </tr>\n",
       "    <tr>\n",
       "      <th>6</th>\n",
       "      <td>01-06-2020</td>\n",
       "      <td>U.S. appeals court: Volkswagen may face 'enorm...</td>\n",
       "    </tr>\n",
       "    <tr>\n",
       "      <th>7</th>\n",
       "      <td>01-06-2020</td>\n",
       "      <td>Is Kinross Gold (KGC) a Great Value Stock Righ...</td>\n",
       "    </tr>\n",
       "    <tr>\n",
       "      <th>8</th>\n",
       "      <td>01-06-2020</td>\n",
       "      <td>Zacks.com featured highlights include: B&amp;G Foo...</td>\n",
       "    </tr>\n",
       "    <tr>\n",
       "      <th>9</th>\n",
       "      <td>01-06-2020</td>\n",
       "      <td>Oil steady as OPEC+ considers extension to out...</td>\n",
       "    </tr>\n",
       "  </tbody>\n",
       "</table>\n",
       "</div>"
      ],
      "text/plain": [
       "         Date                                      news_headline\n",
       "0  02-06-2020  UPDATE 1-U.S. shale producers begin restoring ...\n",
       "1  02-06-2020  UPDATE 1-U.S. sanctions four shipping firms fo...\n",
       "2  02-06-2020  Solar power to remain 'important and consisten...\n",
       "3  02-06-2020  Record gold price against Aussie dollar impact...\n",
       "4  02-06-2020  Contact Gold Receives Permits for Drilling at ...\n",
       "5  02-06-2020  Oil prices rise ahead of OPEC+ meeting on exte...\n",
       "6  01-06-2020  U.S. appeals court: Volkswagen may face 'enorm...\n",
       "7  01-06-2020  Is Kinross Gold (KGC) a Great Value Stock Righ...\n",
       "8  01-06-2020  Zacks.com featured highlights include: B&G Foo...\n",
       "9  01-06-2020  Oil steady as OPEC+ considers extension to out..."
      ]
     },
     "execution_count": 6,
     "metadata": {},
     "output_type": "execute_result"
    }
   ],
   "source": [
    "newsdata.head(10)"
   ]
  },
  {
   "cell_type": "code",
   "execution_count": 7,
   "metadata": {},
   "outputs": [],
   "source": [
    "# Filter down to only news about crude oil\n",
    "\n",
    "for i in range(0,len(newsdata)):\n",
    "    if re.search(r'oil', newsdata['news_headline'][i],re.I) is not None:\n",
    "        continue\n",
    "    else:\n",
    "        newsdata.drop(i, inplace=True)"
   ]
  },
  {
   "cell_type": "code",
   "execution_count": 9,
   "metadata": {},
   "outputs": [],
   "source": [
    "newsdata.sort_values(by=['Date'],inplace=True)\n",
    "newsdata = newsdata.reset_index(drop=True)"
   ]
  },
  {
   "cell_type": "code",
   "execution_count": 11,
   "metadata": {},
   "outputs": [],
   "source": [
    "#derive sentiments in terms of polarity and subjectivity using textblob\n",
    "newsdata['polarity'] = ''\n",
    "newsdata['subjectivity'] = ''\n",
    "newsdata['polarity_description'] = ''\n",
    "\n",
    "for i in range(0,len(newsdata)):\n",
    "    blob = TextBlob(newsdata['news_headline'][i])\n",
    "    Sentiment = blob.sentiment\n",
    "    newsdata['polarity'][i] = Sentiment.polarity\n",
    "    newsdata['subjectivity'][i] = Sentiment.subjectivity\n",
    "    \n",
    "    if Sentiment.polarity > 0:\n",
    "        newsdata['polarity_description'][i] = 'Positive'\n",
    "    elif Sentiment.polarity < 0:\n",
    "        newsdata['polarity_description'][i] = 'Negative'\n",
    "    else:\n",
    "        newsdata['polarity_description'][i] = 'Neutral'\n",
    "        \n",
    "newsdata['polarity'] = pd.to_numeric(newsdata['polarity'])\n",
    "newsdata['Date'] = pd.to_datetime(newsdata['Date'])"
   ]
  },
  {
   "cell_type": "code",
   "execution_count": 14,
   "metadata": {},
   "outputs": [],
   "source": [
    "newsdata.to_csv('news_interpretation.csv',index=False)"
   ]
  },
  {
   "cell_type": "code",
   "execution_count": 15,
   "metadata": {},
   "outputs": [],
   "source": [
    "polarity_mean = newsdata.groupby('Date', as_index=False)['polarity'].mean()\n",
    "polarity_mean.rename(columns={'polarity':'polarity_mean'},inplace=True)\n",
    "polarity_mean.to_csv('polarity_mean.csv',index=False)"
   ]
  },
  {
   "cell_type": "code",
   "execution_count": null,
   "metadata": {},
   "outputs": [],
   "source": []
  }
 ],
 "metadata": {
  "kernelspec": {
   "display_name": "Python 3",
   "language": "python",
   "name": "python3"
  },
  "language_info": {
   "codemirror_mode": {
    "name": "ipython",
    "version": 3
   },
   "file_extension": ".py",
   "mimetype": "text/x-python",
   "name": "python",
   "nbconvert_exporter": "python",
   "pygments_lexer": "ipython3",
   "version": "3.7.7"
  }
 },
 "nbformat": 4,
 "nbformat_minor": 4
}
