{
 "cells": [
  {
   "cell_type": "markdown",
   "metadata": {},
   "source": [
    "## Nurullainy binti Mat Rashid\n",
    "\n",
    "### Milestone 4: Data Interpretation & Communication of Insights of data  \n",
    "\n",
    "### News Data Analysis - Data Preprocessing"
   ]
  },
  {
   "cell_type": "code",
   "execution_count": 1,
   "metadata": {},
   "outputs": [],
   "source": [
    "import pandas as pd\n",
    "import re\n",
    "from textblob import TextBlob"
   ]
  },
  {
   "cell_type": "code",
   "execution_count": 2,
   "metadata": {},
   "outputs": [],
   "source": [
    "# Load Dataset\n",
    "\n",
    "newsdata = pd.read_csv('news_raw.csv')"
   ]
  },
  {
   "cell_type": "code",
   "execution_count": 3,
   "metadata": {},
   "outputs": [
    {
     "data": {
      "text/html": [
       "<div>\n",
       "<style scoped>\n",
       "    .dataframe tbody tr th:only-of-type {\n",
       "        vertical-align: middle;\n",
       "    }\n",
       "\n",
       "    .dataframe tbody tr th {\n",
       "        vertical-align: top;\n",
       "    }\n",
       "\n",
       "    .dataframe thead th {\n",
       "        text-align: right;\n",
       "    }\n",
       "</style>\n",
       "<table border=\"1\" class=\"dataframe\">\n",
       "  <thead>\n",
       "    <tr style=\"text-align: right;\">\n",
       "      <th></th>\n",
       "      <th>DateTime</th>\n",
       "      <th>news_headline</th>\n",
       "    </tr>\n",
       "  </thead>\n",
       "  <tbody>\n",
       "    <tr>\n",
       "      <th>0</th>\n",
       "      <td>12:32 AM06/03/2020 12:32:41 AM UTC-0400</td>\n",
       "      <td>BlackRock focuses on China credit, oil and tra...</td>\n",
       "    </tr>\n",
       "    <tr>\n",
       "      <th>1</th>\n",
       "      <td>06/02/2020</td>\n",
       "      <td>UPDATE 1-U.S. shale producers begin restoring ...</td>\n",
       "    </tr>\n",
       "    <tr>\n",
       "      <th>2</th>\n",
       "      <td>06/02/2020</td>\n",
       "      <td>UPDATE 1-U.S. sanctions four shipping firms fo...</td>\n",
       "    </tr>\n",
       "    <tr>\n",
       "      <th>3</th>\n",
       "      <td>06/02/2020</td>\n",
       "      <td>Solar power to remain 'important and consisten...</td>\n",
       "    </tr>\n",
       "    <tr>\n",
       "      <th>4</th>\n",
       "      <td>06/02/2020</td>\n",
       "      <td>Record gold price against Aussie dollar impact...</td>\n",
       "    </tr>\n",
       "    <tr>\n",
       "      <th>5</th>\n",
       "      <td>06/02/2020</td>\n",
       "      <td>Contact Gold Receives Permits for Drilling at ...</td>\n",
       "    </tr>\n",
       "    <tr>\n",
       "      <th>6</th>\n",
       "      <td>06/02/2020</td>\n",
       "      <td>Oil prices rise ahead of OPEC+ meeting on exte...</td>\n",
       "    </tr>\n",
       "    <tr>\n",
       "      <th>7</th>\n",
       "      <td>06/01/2020</td>\n",
       "      <td>U.S. appeals court: Volkswagen may face 'enorm...</td>\n",
       "    </tr>\n",
       "    <tr>\n",
       "      <th>8</th>\n",
       "      <td>06/01/2020</td>\n",
       "      <td>Is Kinross Gold (KGC) a Great Value Stock Righ...</td>\n",
       "    </tr>\n",
       "    <tr>\n",
       "      <th>9</th>\n",
       "      <td>06/01/2020</td>\n",
       "      <td>Zacks.com featured highlights include: B&amp;G Foo...</td>\n",
       "    </tr>\n",
       "  </tbody>\n",
       "</table>\n",
       "</div>"
      ],
      "text/plain": [
       "                                  DateTime  \\\n",
       "0  12:32 AM06/03/2020 12:32:41 AM UTC-0400   \n",
       "1                               06/02/2020   \n",
       "2                               06/02/2020   \n",
       "3                               06/02/2020   \n",
       "4                               06/02/2020   \n",
       "5                               06/02/2020   \n",
       "6                               06/02/2020   \n",
       "7                               06/01/2020   \n",
       "8                               06/01/2020   \n",
       "9                               06/01/2020   \n",
       "\n",
       "                                       news_headline  \n",
       "0  BlackRock focuses on China credit, oil and tra...  \n",
       "1  UPDATE 1-U.S. shale producers begin restoring ...  \n",
       "2  UPDATE 1-U.S. sanctions four shipping firms fo...  \n",
       "3  Solar power to remain 'important and consisten...  \n",
       "4  Record gold price against Aussie dollar impact...  \n",
       "5  Contact Gold Receives Permits for Drilling at ...  \n",
       "6  Oil prices rise ahead of OPEC+ meeting on exte...  \n",
       "7  U.S. appeals court: Volkswagen may face 'enorm...  \n",
       "8  Is Kinross Gold (KGC) a Great Value Stock Righ...  \n",
       "9  Zacks.com featured highlights include: B&G Foo...  "
      ]
     },
     "execution_count": 3,
     "metadata": {},
     "output_type": "execute_result"
    }
   ],
   "source": [
    "newsdata.head(10)"
   ]
  },
  {
   "cell_type": "code",
   "execution_count": 4,
   "metadata": {},
   "outputs": [
    {
     "data": {
      "text/plain": [
       "(16844, 2)"
      ]
     },
     "execution_count": 4,
     "metadata": {},
     "output_type": "execute_result"
    }
   ],
   "source": [
    "# Find dimension of the raw dataset\n",
    "\n",
    "newsdata.shape"
   ]
  },
  {
   "cell_type": "markdown",
   "metadata": {},
   "source": [
    "The dataset contains about 17 thousands rows and 2 columns"
   ]
  },
  {
   "cell_type": "markdown",
   "metadata": {},
   "source": [
    "### Working with missing values & duplicate data"
   ]
  },
  {
   "cell_type": "code",
   "execution_count": 5,
   "metadata": {},
   "outputs": [
    {
     "data": {
      "text/plain": [
       "DateTime         802\n",
       "news_headline    802\n",
       "dtype: int64"
      ]
     },
     "execution_count": 5,
     "metadata": {},
     "output_type": "execute_result"
    }
   ],
   "source": [
    "# Find number of missing values or NaN \n",
    "\n",
    "newsdata.isnull().sum()"
   ]
  },
  {
   "cell_type": "code",
   "execution_count": 6,
   "metadata": {},
   "outputs": [
    {
     "data": {
      "text/plain": [
       "(16042, 2)"
      ]
     },
     "execution_count": 6,
     "metadata": {},
     "output_type": "execute_result"
    }
   ],
   "source": [
    "# To verify, we only drop if the row have no values at all\n",
    "\n",
    "newsdata.dropna(how='all').shape"
   ]
  },
  {
   "cell_type": "code",
   "execution_count": 7,
   "metadata": {},
   "outputs": [],
   "source": [
    "# Drop duplicates\n",
    "\n",
    "newsdata.drop_duplicates(inplace=True)"
   ]
  },
  {
   "cell_type": "code",
   "execution_count": 8,
   "metadata": {},
   "outputs": [
    {
     "data": {
      "text/plain": [
       "DateTime         0\n",
       "news_headline    0\n",
       "dtype: int64"
      ]
     },
     "execution_count": 8,
     "metadata": {},
     "output_type": "execute_result"
    }
   ],
   "source": [
    "# Drop missing values\n",
    "\n",
    "newsdata = newsdata.dropna(how='all')\n",
    "newsdata.isnull().sum()"
   ]
  },
  {
   "cell_type": "markdown",
   "metadata": {},
   "source": [
    "### Change data type"
   ]
  },
  {
   "cell_type": "code",
   "execution_count": 10,
   "metadata": {},
   "outputs": [],
   "source": [
    "# slicing row for long date format\n",
    "\n",
    "newsdata = newsdata.loc[newsdata.DateTime.str.len() <11] "
   ]
  },
  {
   "cell_type": "code",
   "execution_count": 11,
   "metadata": {},
   "outputs": [],
   "source": [
    "# Change Date format to string\n",
    "\n",
    "newsdata['DateTime'] = pd.to_datetime(newsdata.DateTime)\n",
    "newsdata['DateTime'] = newsdata['DateTime'].dt.strftime('%d-%m-%Y')\n",
    "newsdata.rename(columns={'DateTime':'Date'}, inplace=True)"
   ]
  },
  {
   "cell_type": "code",
   "execution_count": 12,
   "metadata": {},
   "outputs": [],
   "source": [
    "# Change news headline from integer to nominal/str\n",
    "\n",
    "newsdata['news_headline'] = newsdata['news_headline'].astype(str)"
   ]
  },
  {
   "cell_type": "code",
   "execution_count": 13,
   "metadata": {},
   "outputs": [
    {
     "name": "stdout",
     "output_type": "stream",
     "text": [
      "<class 'pandas.core.frame.DataFrame'>\n",
      "Int64Index: 14684 entries, 1 to 16843\n",
      "Data columns (total 2 columns):\n",
      "Date             14684 non-null object\n",
      "news_headline    14684 non-null object\n",
      "dtypes: object(2)\n",
      "memory usage: 344.2+ KB\n",
      "None\n"
     ]
    },
    {
     "data": {
      "text/html": [
       "<div>\n",
       "<style scoped>\n",
       "    .dataframe tbody tr th:only-of-type {\n",
       "        vertical-align: middle;\n",
       "    }\n",
       "\n",
       "    .dataframe tbody tr th {\n",
       "        vertical-align: top;\n",
       "    }\n",
       "\n",
       "    .dataframe thead th {\n",
       "        text-align: right;\n",
       "    }\n",
       "</style>\n",
       "<table border=\"1\" class=\"dataframe\">\n",
       "  <thead>\n",
       "    <tr style=\"text-align: right;\">\n",
       "      <th></th>\n",
       "      <th>Date</th>\n",
       "      <th>news_headline</th>\n",
       "    </tr>\n",
       "  </thead>\n",
       "  <tbody>\n",
       "    <tr>\n",
       "      <th>1</th>\n",
       "      <td>02-06-2020</td>\n",
       "      <td>UPDATE 1-U.S. shale producers begin restoring ...</td>\n",
       "    </tr>\n",
       "    <tr>\n",
       "      <th>2</th>\n",
       "      <td>02-06-2020</td>\n",
       "      <td>UPDATE 1-U.S. sanctions four shipping firms fo...</td>\n",
       "    </tr>\n",
       "    <tr>\n",
       "      <th>3</th>\n",
       "      <td>02-06-2020</td>\n",
       "      <td>Solar power to remain 'important and consisten...</td>\n",
       "    </tr>\n",
       "    <tr>\n",
       "      <th>4</th>\n",
       "      <td>02-06-2020</td>\n",
       "      <td>Record gold price against Aussie dollar impact...</td>\n",
       "    </tr>\n",
       "    <tr>\n",
       "      <th>5</th>\n",
       "      <td>02-06-2020</td>\n",
       "      <td>Contact Gold Receives Permits for Drilling at ...</td>\n",
       "    </tr>\n",
       "    <tr>\n",
       "      <th>6</th>\n",
       "      <td>02-06-2020</td>\n",
       "      <td>Oil prices rise ahead of OPEC+ meeting on exte...</td>\n",
       "    </tr>\n",
       "    <tr>\n",
       "      <th>7</th>\n",
       "      <td>01-06-2020</td>\n",
       "      <td>U.S. appeals court: Volkswagen may face 'enorm...</td>\n",
       "    </tr>\n",
       "    <tr>\n",
       "      <th>8</th>\n",
       "      <td>01-06-2020</td>\n",
       "      <td>Is Kinross Gold (KGC) a Great Value Stock Righ...</td>\n",
       "    </tr>\n",
       "    <tr>\n",
       "      <th>9</th>\n",
       "      <td>01-06-2020</td>\n",
       "      <td>Zacks.com featured highlights include: B&amp;G Foo...</td>\n",
       "    </tr>\n",
       "    <tr>\n",
       "      <th>10</th>\n",
       "      <td>01-06-2020</td>\n",
       "      <td>Oil steady as OPEC+ considers extension to out...</td>\n",
       "    </tr>\n",
       "  </tbody>\n",
       "</table>\n",
       "</div>"
      ],
      "text/plain": [
       "          Date                                      news_headline\n",
       "1   02-06-2020  UPDATE 1-U.S. shale producers begin restoring ...\n",
       "2   02-06-2020  UPDATE 1-U.S. sanctions four shipping firms fo...\n",
       "3   02-06-2020  Solar power to remain 'important and consisten...\n",
       "4   02-06-2020  Record gold price against Aussie dollar impact...\n",
       "5   02-06-2020  Contact Gold Receives Permits for Drilling at ...\n",
       "6   02-06-2020  Oil prices rise ahead of OPEC+ meeting on exte...\n",
       "7   01-06-2020  U.S. appeals court: Volkswagen may face 'enorm...\n",
       "8   01-06-2020  Is Kinross Gold (KGC) a Great Value Stock Righ...\n",
       "9   01-06-2020  Zacks.com featured highlights include: B&G Foo...\n",
       "10  01-06-2020  Oil steady as OPEC+ considers extension to out..."
      ]
     },
     "execution_count": 13,
     "metadata": {},
     "output_type": "execute_result"
    }
   ],
   "source": [
    "print(newsdata.info())\n",
    "newsdata.head(10)"
   ]
  },
  {
   "cell_type": "code",
   "execution_count": 14,
   "metadata": {},
   "outputs": [],
   "source": [
    "# Export data as csv file\n",
    "\n",
    "newsdata.to_csv('/Volumes/Lainy 1T WD/WQD7005 Data Mining /Assignment /M3 - Accessing Hive /Preprocessing/news_preprocessed.csv', \n",
    "               index=False)"
   ]
  },
  {
   "cell_type": "markdown",
   "metadata": {},
   "source": [
    "## Finding News Polarity"
   ]
  },
  {
   "cell_type": "code",
   "execution_count": 15,
   "metadata": {},
   "outputs": [],
   "source": [
    "newsdata = pd.read_csv('news_preprocessed.csv')"
   ]
  },
  {
   "cell_type": "code",
   "execution_count": 16,
   "metadata": {},
   "outputs": [],
   "source": [
    "# Filter down to only news about crude oil\n",
    "\n",
    "for i in range(0,len(newsdata)):\n",
    "    if re.search(r'oil', newsdata['news_headline'][i],re.I) is not None:\n",
    "        continue\n",
    "    else:\n",
    "        newsdata.drop(i, inplace=True)"
   ]
  },
  {
   "cell_type": "code",
   "execution_count": 17,
   "metadata": {},
   "outputs": [
    {
     "data": {
      "text/plain": [
       "(7710, 2)"
      ]
     },
     "execution_count": 17,
     "metadata": {},
     "output_type": "execute_result"
    }
   ],
   "source": [
    "newsdata.shape"
   ]
  },
  {
   "cell_type": "markdown",
   "metadata": {},
   "source": [
    "From 16,844 of news, 7,710 are news that relate to oil "
   ]
  },
  {
   "cell_type": "code",
   "execution_count": 18,
   "metadata": {},
   "outputs": [],
   "source": [
    "# Resetting index\n",
    "\n",
    "newsdata.sort_values(by=['Date'],inplace=True)\n",
    "newsdata = newsdata.reset_index(drop=True)"
   ]
  },
  {
   "cell_type": "code",
   "execution_count": 19,
   "metadata": {},
   "outputs": [],
   "source": [
    "# Derive sentiments in terms of polarity and subjectivity using textblob\n",
    "\n",
    "newsdata['polarity'] = ''\n",
    "newsdata['subjectivity'] = ''\n",
    "newsdata['polarity_description'] = ''\n",
    "\n",
    "for i in range(0,len(newsdata)):\n",
    "    blob = TextBlob(newsdata['news_headline'][i])\n",
    "    Sentiment = blob.sentiment\n",
    "    newsdata['polarity'][i] = Sentiment.polarity\n",
    "    newsdata['subjectivity'][i] = Sentiment.subjectivity\n",
    "    \n",
    "    if Sentiment.polarity > 0:\n",
    "        newsdata['polarity_description'][i] = 'Positive'\n",
    "    elif Sentiment.polarity < 0:\n",
    "        newsdata['polarity_description'][i] = 'Negative'\n",
    "    else:\n",
    "        newsdata['polarity_description'][i] = 'Neutral'\n",
    "        \n",
    "newsdata['polarity'] = pd.to_numeric(newsdata['polarity'])\n",
    "newsdata['Date'] = pd.to_datetime(newsdata['Date'])"
   ]
  },
  {
   "cell_type": "code",
   "execution_count": 20,
   "metadata": {},
   "outputs": [
    {
     "data": {
      "text/html": [
       "<div>\n",
       "<style scoped>\n",
       "    .dataframe tbody tr th:only-of-type {\n",
       "        vertical-align: middle;\n",
       "    }\n",
       "\n",
       "    .dataframe tbody tr th {\n",
       "        vertical-align: top;\n",
       "    }\n",
       "\n",
       "    .dataframe thead th {\n",
       "        text-align: right;\n",
       "    }\n",
       "</style>\n",
       "<table border=\"1\" class=\"dataframe\">\n",
       "  <thead>\n",
       "    <tr style=\"text-align: right;\">\n",
       "      <th></th>\n",
       "      <th>Date</th>\n",
       "      <th>news_headline</th>\n",
       "      <th>polarity</th>\n",
       "      <th>subjectivity</th>\n",
       "      <th>polarity_description</th>\n",
       "    </tr>\n",
       "  </thead>\n",
       "  <tbody>\n",
       "    <tr>\n",
       "      <th>0</th>\n",
       "      <td>2020-01-01</td>\n",
       "      <td>Johan Sverdrup: Norway’s big bet on a rosy fut...</td>\n",
       "      <td>0.000000</td>\n",
       "      <td>0.1125</td>\n",
       "      <td>Neutral</td>\n",
       "    </tr>\n",
       "    <tr>\n",
       "      <th>1</th>\n",
       "      <td>2020-01-02</td>\n",
       "      <td>India exempts very low sulphur fuel oil from i...</td>\n",
       "      <td>0.000000</td>\n",
       "      <td>0.39</td>\n",
       "      <td>Neutral</td>\n",
       "    </tr>\n",
       "    <tr>\n",
       "      <th>2</th>\n",
       "      <td>2020-01-02</td>\n",
       "      <td>Oil majors request more Mozambique troops afte...</td>\n",
       "      <td>0.500000</td>\n",
       "      <td>0.5</td>\n",
       "      <td>Positive</td>\n",
       "    </tr>\n",
       "    <tr>\n",
       "      <th>3</th>\n",
       "      <td>2020-01-02</td>\n",
       "      <td>India raises import tax on crude palm oil to 44%</td>\n",
       "      <td>-0.700000</td>\n",
       "      <td>1</td>\n",
       "      <td>Negative</td>\n",
       "    </tr>\n",
       "    <tr>\n",
       "      <th>4</th>\n",
       "      <td>2020-01-03</td>\n",
       "      <td>Russia's Putin says current oil prices acceptable</td>\n",
       "      <td>0.000000</td>\n",
       "      <td>0.4</td>\n",
       "      <td>Neutral</td>\n",
       "    </tr>\n",
       "    <tr>\n",
       "      <th>5</th>\n",
       "      <td>2020-01-03</td>\n",
       "      <td>Why Is Imperial Oil (IMO) Down 10.2% Since Las...</td>\n",
       "      <td>-0.077778</td>\n",
       "      <td>0.177778</td>\n",
       "      <td>Negative</td>\n",
       "    </tr>\n",
       "    <tr>\n",
       "      <th>6</th>\n",
       "      <td>2020-01-03</td>\n",
       "      <td>Putin, ahead of OPEC meeting, says current oil...</td>\n",
       "      <td>0.000000</td>\n",
       "      <td>0.4</td>\n",
       "      <td>Neutral</td>\n",
       "    </tr>\n",
       "    <tr>\n",
       "      <th>7</th>\n",
       "      <td>2020-01-03</td>\n",
       "      <td>OPEC could deepen oil supply cuts with or with...</td>\n",
       "      <td>0.000000</td>\n",
       "      <td>0</td>\n",
       "      <td>Neutral</td>\n",
       "    </tr>\n",
       "    <tr>\n",
       "      <th>8</th>\n",
       "      <td>2020-01-03</td>\n",
       "      <td>Speculators raise their bets against US oil an...</td>\n",
       "      <td>0.000000</td>\n",
       "      <td>0</td>\n",
       "      <td>Neutral</td>\n",
       "    </tr>\n",
       "    <tr>\n",
       "      <th>9</th>\n",
       "      <td>2020-01-03</td>\n",
       "      <td>Oil bounces from multi-year lows as hopes of O...</td>\n",
       "      <td>0.000000</td>\n",
       "      <td>0</td>\n",
       "      <td>Neutral</td>\n",
       "    </tr>\n",
       "  </tbody>\n",
       "</table>\n",
       "</div>"
      ],
      "text/plain": [
       "        Date                                      news_headline  polarity  \\\n",
       "0 2020-01-01  Johan Sverdrup: Norway’s big bet on a rosy fut...  0.000000   \n",
       "1 2020-01-02  India exempts very low sulphur fuel oil from i...  0.000000   \n",
       "2 2020-01-02  Oil majors request more Mozambique troops afte...  0.500000   \n",
       "3 2020-01-02   India raises import tax on crude palm oil to 44% -0.700000   \n",
       "4 2020-01-03  Russia's Putin says current oil prices acceptable  0.000000   \n",
       "5 2020-01-03  Why Is Imperial Oil (IMO) Down 10.2% Since Las... -0.077778   \n",
       "6 2020-01-03  Putin, ahead of OPEC meeting, says current oil...  0.000000   \n",
       "7 2020-01-03  OPEC could deepen oil supply cuts with or with...  0.000000   \n",
       "8 2020-01-03  Speculators raise their bets against US oil an...  0.000000   \n",
       "9 2020-01-03  Oil bounces from multi-year lows as hopes of O...  0.000000   \n",
       "\n",
       "  subjectivity polarity_description  \n",
       "0       0.1125              Neutral  \n",
       "1         0.39              Neutral  \n",
       "2          0.5             Positive  \n",
       "3            1             Negative  \n",
       "4          0.4              Neutral  \n",
       "5     0.177778             Negative  \n",
       "6          0.4              Neutral  \n",
       "7            0              Neutral  \n",
       "8            0              Neutral  \n",
       "9            0              Neutral  "
      ]
     },
     "execution_count": 20,
     "metadata": {},
     "output_type": "execute_result"
    }
   ],
   "source": [
    "newsdata.head(10)"
   ]
  },
  {
   "cell_type": "code",
   "execution_count": 21,
   "metadata": {},
   "outputs": [],
   "source": [
    "newsdata.to_csv('news_interpretation.csv',index=False)"
   ]
  },
  {
   "cell_type": "code",
   "execution_count": 22,
   "metadata": {},
   "outputs": [],
   "source": [
    "polarity_mean = newsdata.groupby('Date', as_index=False)['polarity'].mean()\n",
    "polarity_mean.rename(columns={'polarity':'polarity_mean'},inplace=True)\n",
    "polarity_mean.to_csv('polarity_mean.csv',index=False)"
   ]
  },
  {
   "cell_type": "code",
   "execution_count": null,
   "metadata": {},
   "outputs": [],
   "source": []
  }
 ],
 "metadata": {
  "kernelspec": {
   "display_name": "Python 3",
   "language": "python",
   "name": "python3"
  },
  "language_info": {
   "codemirror_mode": {
    "name": "ipython",
    "version": 3
   },
   "file_extension": ".py",
   "mimetype": "text/x-python",
   "name": "python",
   "nbconvert_exporter": "python",
   "pygments_lexer": "ipython3",
   "version": "3.6.5"
  }
 },
 "nbformat": 4,
 "nbformat_minor": 4
}
