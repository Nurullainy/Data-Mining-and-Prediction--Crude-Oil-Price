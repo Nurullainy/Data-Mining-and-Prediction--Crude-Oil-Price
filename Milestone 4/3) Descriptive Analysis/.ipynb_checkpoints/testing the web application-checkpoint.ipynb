{
 "cells": [
  {
   "cell_type": "markdown",
   "metadata": {},
   "source": [
    "## WQD 7005 Data Mining \n",
    "## Project Title: Crude Oil Price Prediction\n",
    "\n",
    "### Milestone 4: Data Interpretation & Communication of Insights of data  (Part 1)\n",
    "\n",
    "### Data Visualization - Web Testing\n",
    "\n",
    "##### Team member: \n",
    "1) Nurullainy binti Mat Rashid 17036591"
   ]
  },
  {
   "cell_type": "code",
   "execution_count": 10,
   "metadata": {
    "colab": {
     "base_uri": "https://localhost:8080/",
     "height": 52
    },
    "colab_type": "code",
    "id": "lIYdn1woOS1n",
    "outputId": "34217c68-2311-4e9b-9de6-4355dd179212"
   },
   "outputs": [],
   "source": [
    "import requests"
   ]
  },
  {
   "cell_type": "code",
   "execution_count": 13,
   "metadata": {},
   "outputs": [
    {
     "name": "stdout",
     "output_type": "stream",
     "text": [
      "200\n",
      "\n",
      "        <!DOCTYPE html>\n",
      "        <html>\n",
      "            <head>\n",
      "                \n",
      "                <meta http-equiv=\"X-UA-Compatible\" content=\"IE=edge\">\n",
      "      <meta charset=\"UTF-8\">\n",
      "                <title>D-Tale Charts</title>\n",
      "                <link rel=\"shortcut icon\" href=\"../../images/favicon.png\">\n",
      "                <link rel=\"stylesheet\" href=\"/css/main.css\">\n",
      "<link rel=\"stylesheet\" href=\"/css/dash.css\">\n",
      "            </head>\n",
      "            <body>\n",
      "                \n",
      "                <div class=\"container-fluid charts\">\n",
      "                    <div class=\"row\" style=\"margin: 0\">\n",
      "                        <div class=\"col-auto\">\n",
      "                            <header>\n",
      "                                <span class=\"title-font\">D-TALE</span>\n",
      "                                <span style=\"font-size: 16px\" class=\"pl-4\">Charts</span>\n",
      "                            </header>\n",
      "                        </div>\n",
      "                        <div class=\"col\"></div>\n",
      "                        <div class=\"col-auto mt-4\" style=\"\">\n",
      "                            <a href=\"#\" onclick=\"javascript:backToData()\">\n",
      "                                <i class=\"fas fa-th mr-4\"></i>\n",
      "                                <span>Back To Data</span>\n",
      "                            </a>\n",
      "                        </div>\n",
      "                    </div>\n",
      "                    \n",
      "<div id=\"react-entry-point\">\n",
      "    <div class=\"_dash-loading\">\n",
      "        Loading...\n",
      "    </div>\n",
      "</div>\n",
      "\n",
      "                </div>\n",
      "                <footer>\n",
      "                    <script id=\"_dash-config\" type=\"application/json\">{\"url_base_pathname\": null, \"requests_pathname_prefix\": \"/charts/\", \"ui\": false, \"props_check\": false, \"show_undo_redo\": false, \"suppress_callback_exceptions\": false}</script>\n",
      "                    <script src=\"/charts/_dash-component-suites/dash_renderer/polyfill@7.v1_4_1m1588701816.8.7.min.js\"></script>\n",
      "<script src=\"/charts/_dash-component-suites/dash_renderer/react@16.v1_4_1m1588701816.13.0.min.js\"></script>\n",
      "<script src=\"/charts/_dash-component-suites/dash_renderer/react-dom@16.v1_4_1m1588701816.13.0.min.js\"></script>\n",
      "<script src=\"/charts/_dash-component-suites/dash_renderer/prop-types@15.v1_4_1m1588701816.7.2.min.js\"></script>\n",
      "<script src=\"/dash/components_bundle.js\"></script>\n",
      "<script src=\"/dash/custom_bundle.js\"></script>\n",
      "<script src=\"/dist/base_styles_bundle.js\"></script>\n",
      "<script src=\"/charts/_dash-component-suites/dash_daq/async-colorpicker.v0_5_0m1587997219.js\"></script>\n",
      "<script src=\"/charts/_dash-component-suites/dash_daq/async-slider.v0_5_0m1587997219.js\"></script>\n",
      "<script src=\"/charts/_dash-component-suites/dash_daq/dash_daq.v0_5_0m1587997219.min.js\"></script>\n",
      "<script src=\"/charts/_dash-component-suites/dash_core_components/async-datepicker.v1_10_0m1588696757.js\"></script>\n",
      "<script src=\"/charts/_dash-component-suites/dash_core_components/async-dropdown.v1_10_0m1588696757.js\"></script>\n",
      "<script src=\"/charts/_dash-component-suites/dash_core_components/async-graph.v1_10_0m1588696757.js\"></script>\n",
      "<script src=\"/charts/_dash-component-suites/dash_core_components/async-highlight.v1_10_0m1588696757.js\"></script>\n",
      "<script src=\"/charts/_dash-component-suites/dash_core_components/async-markdown.v1_10_0m1588696757.js\"></script>\n",
      "<script src=\"/charts/_dash-component-suites/dash_core_components/async-slider.v1_10_0m1588696757.js\"></script>\n",
      "<script src=\"/charts/_dash-component-suites/dash_core_components/async-upload.v1_10_0m1588696757.js\"></script>\n",
      "<script src=\"/charts/_dash-component-suites/dash_core_components/dash_core_components.v1_10_0m1588696757.min.js\"></script>\n",
      "<script src=\"/charts/_dash-component-suites/dash_core_components/dash_core_components-shared.v1_10_0m1588696757.js\"></script>\n",
      "<script src=\"/charts/_dash-component-suites/dash_core_components/plotly.v1_10_0m1588696760.min.js\"></script>\n",
      "<script src=\"/charts/_dash-component-suites/dash_html_components/dash_html_components.v1_0_3m1585775459.min.js\"></script>\n",
      "<script src=\"/charts/_dash-component-suites/dash_renderer/dash_renderer.v1_4_1m1588701828.min.js\"></script>\n",
      "                    <script type=\"text/javascript\">\n",
      "                        const pathSegs = window.location.pathname.split('/');\n",
      "                        const dataId = pathSegs[pathSegs.length - 1];\n",
      "                        const backToData = () => window.open('/dtale/main/' + dataId);\n",
      "                        const goToLegacy = () => location.replace('/dtale/popup/charts/' + dataId);\n",
      "                    </script>\n",
      "                    <script id=\"_dash-renderer\" type=\"application/javascript\">var renderer = new DashRenderer();</script>\n",
      "                    <link rel=\"stylesheet\" href=\"/css/main.css\">\n",
      "<link rel=\"stylesheet\" href=\"/css/dash.css\">\n",
      "                </footer>\n",
      "            </body>\n",
      "        </html>\n",
      "    \n"
     ]
    }
   ],
   "source": [
    "# Web application for crude oil\n",
    "\n",
    "url = 'http://localhost:40000/charts/4#'\n",
    "req = requests.get(url)\n",
    "\n",
    "print(req.status_code)\n",
    "print(req.text)"
   ]
  },
  {
   "cell_type": "code",
   "execution_count": 14,
   "metadata": {
    "colab": {
     "base_uri": "https://localhost:8080/",
     "height": 52
    },
    "colab_type": "code",
    "id": "lIYdn1woOS1n",
    "outputId": "34217c68-2311-4e9b-9de6-4355dd179212"
   },
   "outputs": [
    {
     "name": "stdout",
     "output_type": "stream",
     "text": [
      "200\n",
      "<!doctype html>\n",
      "<html>\n",
      "    <head>\n",
      "\t<meta charset=\"utf-8\">\n",
      "\t<meta http-equiv=\"X-UA-Compatible\" content=\"IE=edge\">\n",
      "\t<meta name=\"viewport\" content=\"width=device-width, initial-scale=1, user-scalable=yes\">\n",
      "\t<meta http-equiv=\"Content-Type\" content=\"text/html; charset=utf-8\" />\n",
      "\t<link rel=\"shortcut icon\" href=\"/images/favicon.png\">\n",
      "    <title>D-Tale - Correlations</title>\n",
      "        <script type=\"text/javascript\" src=\"/dist/base_styles_bundle.js\"></script>\n",
      "    <link rel=\"stylesheet\" type=\"text/css\" href=\"/css/main.css\" />\n",
      "    </head>\n",
      "    <body>\n",
      "        <input type=\"hidden\" id=\"data_id\" value=\"3\" />\n",
      "        <input type=\"hidden\" id=\"xarray\" value=\"False\" />\n",
      "        <input type=\"hidden\" id=\"xarray_dim\" value=\"null\" />\n",
      "        <input type=\"hidden\" id=\"settings\" value=\"{&#34;locked&#34;: []}\" />\n",
      "        <input type=\"hidden\" id=\"version\" value=\"1.8.16\" />\n",
      "        <input type=\"hidden\" id=\"hide_shutdown\" value=\"False\" />\n",
      "        <input type=\"hidden\" id=\"processes\" value=4 />\n",
      "<div class=\"container-fluid correlations\">\n",
      "    <div class=\"row\" style=\"margin: 0\">\n",
      "        <div class=\"col-auto\">\n",
      "            <header>\n",
      "                <span class=\"title-font\">D-TALE</span>\n",
      "                <span style=\"font-size: 16px\" class=\"pl-4\">- Correlations</span>\n",
      "            </header>\n",
      "        </div>\n",
      "        <div class=\"col\"></div>\n",
      "        <div class=\"col-auto mt-4\" style=\"\">\n",
      "            <a href=\"#\" onclick=\"window.open('/dtale/main/3'); return false;\">\n",
      "                <i class=\"fas fa-th mr-4\"></i>\n",
      "                <span>Back To Data</span>\n",
      "            </a>\n",
      "        </div>\n",
      "    </div>\n",
      "    <div id=\"popup-content\" />\n",
      "</div>\n",
      "        <script type=\"text/javascript\" src=\"/dist/polyfills_bundle.js\"></script>\n",
      "<script type=\"text/javascript\">\n",
      "    const backToData = () => window.open('/dtale/main/3');\n",
      "</script>\n",
      "<script type=\"text/javascript\" src=\"/dist/dtale_bundle.js\"></script>\n",
      "        <link rel=\"stylesheet\" type=\"text/css\" href=\"/css/main.css\" />\n",
      "    </body>\n",
      "</html>\n"
     ]
    }
   ],
   "source": [
    "url = 'http://localhost:40000/dtale/popup/correlations/3'\n",
    "req = requests.get(url)\n",
    "\n",
    "print(req.status_code)\n",
    "print(req.text)"
   ]
  },
  {
   "cell_type": "code",
   "execution_count": null,
   "metadata": {},
   "outputs": [],
   "source": []
  },
  {
   "cell_type": "code",
   "execution_count": null,
   "metadata": {},
   "outputs": [],
   "source": []
  }
 ],
 "metadata": {
  "colab": {
   "name": "scratchpad",
   "provenance": []
  },
  "kernelspec": {
   "display_name": "Python 3",
   "language": "python",
   "name": "python3"
  },
  "language_info": {
   "codemirror_mode": {
    "name": "ipython",
    "version": 3
   },
   "file_extension": ".py",
   "mimetype": "text/x-python",
   "name": "python",
   "nbconvert_exporter": "python",
   "pygments_lexer": "ipython3",
   "version": "3.6.5"
  }
 },
 "nbformat": 4,
 "nbformat_minor": 1
}
