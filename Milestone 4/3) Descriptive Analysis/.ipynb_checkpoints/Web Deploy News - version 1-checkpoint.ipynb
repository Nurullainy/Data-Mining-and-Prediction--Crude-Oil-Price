{
 "cells": [
  {
   "cell_type": "markdown",
   "metadata": {},
   "source": [
    "## WQD 7005 Data Mining \n",
    "## Project Title: Crude Oil Price Prediction\n",
    "\n",
    "### Milestone 4: Data Interpretation & Communication of Insights of data  (Part 1)\n",
    "\n",
    "### Data Visualization I\n",
    "\n",
    "\n",
    "##### Team member: \n",
    "1) Nurullainy binti Mat Rashid 17036591"
   ]
  },
  {
   "cell_type": "code",
   "execution_count": 8,
   "metadata": {},
   "outputs": [],
   "source": [
    "import dtale\n",
    "\n",
    "import pandas as pd\n",
    "import numpy as np"
   ]
  },
  {
   "cell_type": "code",
   "execution_count": 12,
   "metadata": {},
   "outputs": [],
   "source": [
    "newsdata = pd.read_csv('news_interpretation.csv')\n",
    "oildata = pd.read_csv('oilprice_integration.csv')"
   ]
  },
  {
   "cell_type": "code",
   "execution_count": 13,
   "metadata": {
    "scrolled": false
   },
   "outputs": [
    {
     "data": {
      "text/html": [
       "\n",
       "        <iframe\n",
       "            width=\"100%\"\n",
       "            height=\"475\"\n",
       "            src=\"http://Nurullainy-MacBook-Pro.local:40000/dtale/iframe/4\"\n",
       "            frameborder=\"0\"\n",
       "            allowfullscreen\n",
       "        ></iframe>\n",
       "        "
      ],
      "text/plain": [
       "<IPython.lib.display.IFrame at 0x120561910>"
      ]
     },
     "metadata": {},
     "output_type": "display_data"
    },
    {
     "data": {
      "text/plain": []
     },
     "execution_count": 13,
     "metadata": {},
     "output_type": "execute_result"
    },
    {
     "name": "stdout",
     "output_type": "stream",
     "text": [
      "Exception on /charts/_dash-update-component [POST]\n",
      "Traceback (most recent call last):\n",
      "  File \"/Users/Nurullainy/Library/Python/3.7/lib/python/site-packages/flask/app.py\", line 2446, in wsgi_app\n",
      "    response = self.full_dispatch_request()\n",
      "  File \"/Users/Nurullainy/Library/Python/3.7/lib/python/site-packages/flask/app.py\", line 1951, in full_dispatch_request\n",
      "    rv = self.handle_user_exception(e)\n",
      "  File \"/Users/Nurullainy/Library/Python/3.7/lib/python/site-packages/flask/app.py\", line 1820, in handle_user_exception\n",
      "    reraise(exc_type, exc_value, tb)\n",
      "  File \"/Users/Nurullainy/Library/Python/3.7/lib/python/site-packages/flask/_compat.py\", line 39, in reraise\n",
      "    raise value\n",
      "  File \"/Users/Nurullainy/Library/Python/3.7/lib/python/site-packages/flask/app.py\", line 1949, in full_dispatch_request\n",
      "    rv = self.dispatch_request()\n",
      "  File \"/Users/Nurullainy/Library/Python/3.7/lib/python/site-packages/flask/app.py\", line 1935, in dispatch_request\n",
      "    return self.view_functions[rule.endpoint](**req.view_args)\n",
      "  File \"/Users/Nurullainy/Library/Python/3.7/lib/python/site-packages/dash/dash.py\", line 1032, in dispatch\n",
      "    response.set_data(func(*args, outputs_list=outputs_list))\n",
      "  File \"/Users/Nurullainy/Library/Python/3.7/lib/python/site-packages/dash/dash.py\", line 967, in add_context\n",
      "    output_value = func(*args, **kwargs)  # %% callback invoked %%\n",
      "  File \"/Users/Nurullainy/Library/Python/3.7/lib/python/site-packages/dtale/dash_application/views.py\", line 475, in group_values\n",
      "    group_vals = build_group_val_options(group_vals, group_cols)\n",
      "  File \"/Users/Nurullainy/Library/Python/3.7/lib/python/site-packages/dtale/dash_application/layout.py\", line 523, in build_group_val_options\n",
      "    group_vals = find_group_vals(df, group_cols)\n",
      "  File \"/Users/Nurullainy/Library/Python/3.7/lib/python/site-packages/dtale/charts/utils.py\", line 507, in find_group_vals\n",
      "    group_vals, _ = retrieve_chart_data(df, group_cols)\n",
      "  File \"/Users/Nurullainy/Library/Python/3.7/lib/python/site-packages/dtale/charts/utils.py\", line 202, in retrieve_chart_data\n",
      "    all_data = pd.concat(all_data, axis=1)\n",
      "  File \"/usr/local/lib/python3.7/site-packages/pandas/core/reshape/concat.py\", line 281, in concat\n",
      "    sort=sort,\n",
      "  File \"/usr/local/lib/python3.7/site-packages/pandas/core/reshape/concat.py\", line 329, in __init__\n",
      "    raise ValueError(\"No objects to concatenate\")\n",
      "ValueError: No objects to concatenate\n"
     ]
    },
    {
     "name": "stderr",
     "output_type": "stream",
     "text": [
      "2020-06-15 22:29:51,498 - ERROR    - Exception on /charts/_dash-update-component [POST]\n",
      "Traceback (most recent call last):\n",
      "  File \"/Users/Nurullainy/Library/Python/3.7/lib/python/site-packages/flask/app.py\", line 2446, in wsgi_app\n",
      "    response = self.full_dispatch_request()\n",
      "  File \"/Users/Nurullainy/Library/Python/3.7/lib/python/site-packages/flask/app.py\", line 1951, in full_dispatch_request\n",
      "    rv = self.handle_user_exception(e)\n",
      "  File \"/Users/Nurullainy/Library/Python/3.7/lib/python/site-packages/flask/app.py\", line 1820, in handle_user_exception\n",
      "    reraise(exc_type, exc_value, tb)\n",
      "  File \"/Users/Nurullainy/Library/Python/3.7/lib/python/site-packages/flask/_compat.py\", line 39, in reraise\n",
      "    raise value\n",
      "  File \"/Users/Nurullainy/Library/Python/3.7/lib/python/site-packages/flask/app.py\", line 1949, in full_dispatch_request\n",
      "    rv = self.dispatch_request()\n",
      "  File \"/Users/Nurullainy/Library/Python/3.7/lib/python/site-packages/flask/app.py\", line 1935, in dispatch_request\n",
      "    return self.view_functions[rule.endpoint](**req.view_args)\n",
      "  File \"/Users/Nurullainy/Library/Python/3.7/lib/python/site-packages/dash/dash.py\", line 1032, in dispatch\n",
      "    response.set_data(func(*args, outputs_list=outputs_list))\n",
      "  File \"/Users/Nurullainy/Library/Python/3.7/lib/python/site-packages/dash/dash.py\", line 967, in add_context\n",
      "    output_value = func(*args, **kwargs)  # %% callback invoked %%\n",
      "  File \"/Users/Nurullainy/Library/Python/3.7/lib/python/site-packages/dtale/dash_application/views.py\", line 475, in group_values\n",
      "    group_vals = build_group_val_options(group_vals, group_cols)\n",
      "  File \"/Users/Nurullainy/Library/Python/3.7/lib/python/site-packages/dtale/dash_application/layout.py\", line 523, in build_group_val_options\n",
      "    group_vals = find_group_vals(df, group_cols)\n",
      "  File \"/Users/Nurullainy/Library/Python/3.7/lib/python/site-packages/dtale/charts/utils.py\", line 507, in find_group_vals\n",
      "    group_vals, _ = retrieve_chart_data(df, group_cols)\n",
      "  File \"/Users/Nurullainy/Library/Python/3.7/lib/python/site-packages/dtale/charts/utils.py\", line 202, in retrieve_chart_data\n",
      "    all_data = pd.concat(all_data, axis=1)\n",
      "  File \"/usr/local/lib/python3.7/site-packages/pandas/core/reshape/concat.py\", line 281, in concat\n",
      "    sort=sort,\n",
      "  File \"/usr/local/lib/python3.7/site-packages/pandas/core/reshape/concat.py\", line 329, in __init__\n",
      "    raise ValueError(\"No objects to concatenate\")\n",
      "ValueError: No objects to concatenate\n"
     ]
    },
    {
     "name": "stdout",
     "output_type": "stream",
     "text": [
      "Exception occurred while processing request: index 0 is out of bounds for axis 0 with size 0\n",
      "Traceback (most recent call last):\n",
      "  File \"/Users/Nurullainy/Library/Python/3.7/lib/python/site-packages/dtale/views.py\", line 49, in _handle_exceptions\n",
      "    return func(*args, **kwargs)\n",
      "  File \"/Users/Nurullainy/Library/Python/3.7/lib/python/site-packages/dtale/views.py\", line 1156, in describe\n",
      "    desc, desc_code = load_describe(data[column], additional_aggs=additional_aggs)\n",
      "  File \"/Users/Nurullainy/Library/Python/3.7/lib/python/site-packages/dtale/views.py\", line 1107, in load_describe\n",
      "    desc['mode'] = np.nan if len(mode) > 1 else mode[0]\n",
      "IndexError: index 0 is out of bounds for axis 0 with size 0\n"
     ]
    },
    {
     "name": "stderr",
     "output_type": "stream",
     "text": [
      "/usr/local/lib/python3.7/site-packages/numpy/lib/nanfunctions.py:1113: RuntimeWarning:\n",
      "\n",
      "Mean of empty slice\n",
      "\n",
      "2020-06-15 23:09:57,584 - ERROR    - Exception occurred while processing request: index 0 is out of bounds for axis 0 with size 0\n",
      "Traceback (most recent call last):\n",
      "  File \"/Users/Nurullainy/Library/Python/3.7/lib/python/site-packages/dtale/views.py\", line 49, in _handle_exceptions\n",
      "    return func(*args, **kwargs)\n",
      "  File \"/Users/Nurullainy/Library/Python/3.7/lib/python/site-packages/dtale/views.py\", line 1156, in describe\n",
      "    desc, desc_code = load_describe(data[column], additional_aggs=additional_aggs)\n",
      "  File \"/Users/Nurullainy/Library/Python/3.7/lib/python/site-packages/dtale/views.py\", line 1107, in load_describe\n",
      "    desc['mode'] = np.nan if len(mode) > 1 else mode[0]\n",
      "IndexError: index 0 is out of bounds for axis 0 with size 0\n"
     ]
    }
   ],
   "source": [
    "# Dtale show\n",
    "\n",
    "dtale.show(oildata)"
   ]
  },
  {
   "cell_type": "code",
   "execution_count": 11,
   "metadata": {},
   "outputs": [
    {
     "data": {
      "text/html": [
       "\n",
       "        <iframe\n",
       "            width=\"100%\"\n",
       "            height=\"475\"\n",
       "            src=\"http://Nurullainy-MacBook-Pro.local:40000/dtale/iframe/3\"\n",
       "            frameborder=\"0\"\n",
       "            allowfullscreen\n",
       "        ></iframe>\n",
       "        "
      ],
      "text/plain": [
       "<IPython.lib.display.IFrame at 0x120561690>"
      ]
     },
     "metadata": {},
     "output_type": "display_data"
    },
    {
     "data": {
      "text/plain": []
     },
     "execution_count": 11,
     "metadata": {},
     "output_type": "execute_result"
    }
   ],
   "source": [
    "# Dtale show\n",
    "\n",
    "dtale.show(newsdata, ignore_duplicate=True)"
   ]
  },
  {
   "cell_type": "code",
   "execution_count": 19,
   "metadata": {},
   "outputs": [
    {
     "data": {
      "text/html": [
       "<div>\n",
       "<style scoped>\n",
       "    .dataframe tbody tr th:only-of-type {\n",
       "        vertical-align: middle;\n",
       "    }\n",
       "\n",
       "    .dataframe tbody tr th {\n",
       "        vertical-align: top;\n",
       "    }\n",
       "\n",
       "    .dataframe thead th {\n",
       "        text-align: right;\n",
       "    }\n",
       "</style>\n",
       "<table border=\"1\" class=\"dataframe\">\n",
       "  <thead>\n",
       "    <tr style=\"text-align: right;\">\n",
       "      <th></th>\n",
       "      <th>year</th>\n",
       "      <th>month</th>\n",
       "      <th>Date</th>\n",
       "      <th>day</th>\n",
       "      <th>day_no</th>\n",
       "      <th>Open</th>\n",
       "      <th>Low</th>\n",
       "      <th>High</th>\n",
       "      <th>Close</th>\n",
       "      <th>trend</th>\n",
       "      <th>open_equals_closing</th>\n",
       "      <th>all_day_maintain</th>\n",
       "      <th>closing_low</th>\n",
       "      <th>closing_high</th>\n",
       "      <th>DateTime</th>\n",
       "      <th>news_headline</th>\n",
       "      <th>polarity</th>\n",
       "      <th>subjectivity</th>\n",
       "      <th>polarity_description</th>\n",
       "    </tr>\n",
       "  </thead>\n",
       "  <tbody>\n",
       "    <tr>\n",
       "      <th>0</th>\n",
       "      <td>2000.0</td>\n",
       "      <td>January</td>\n",
       "      <td>2000-01-05</td>\n",
       "      <td>Wednesday</td>\n",
       "      <td>3.0</td>\n",
       "      <td>25.549999</td>\n",
       "      <td>25.50</td>\n",
       "      <td>26.000000</td>\n",
       "      <td>25.870001</td>\n",
       "      <td>downward</td>\n",
       "      <td>NaN</td>\n",
       "      <td>NaN</td>\n",
       "      <td>NaN</td>\n",
       "      <td>0.0</td>\n",
       "      <td>01/01/2020</td>\n",
       "      <td>Johan Sverdrup: Norway’s big bet on a rosy fut...</td>\n",
       "      <td>0.0</td>\n",
       "      <td>0.1125</td>\n",
       "      <td>Neutral</td>\n",
       "    </tr>\n",
       "    <tr>\n",
       "      <th>1</th>\n",
       "      <td>2000.0</td>\n",
       "      <td>January</td>\n",
       "      <td>2000-01-06</td>\n",
       "      <td>Thursday</td>\n",
       "      <td>4.0</td>\n",
       "      <td>29.400000</td>\n",
       "      <td>29.23</td>\n",
       "      <td>30.350000</td>\n",
       "      <td>30.100000</td>\n",
       "      <td>downward</td>\n",
       "      <td>NaN</td>\n",
       "      <td>NaN</td>\n",
       "      <td>NaN</td>\n",
       "      <td>0.0</td>\n",
       "      <td>02/01/2020</td>\n",
       "      <td>India exempts very low sulphur fuel oil from i...</td>\n",
       "      <td>0.0</td>\n",
       "      <td>0.3900</td>\n",
       "      <td>Neutral</td>\n",
       "    </tr>\n",
       "    <tr>\n",
       "      <th>2</th>\n",
       "      <td>2000.0</td>\n",
       "      <td>January</td>\n",
       "      <td>2000-01-08</td>\n",
       "      <td>Saturday</td>\n",
       "      <td>6.0</td>\n",
       "      <td>27.549999</td>\n",
       "      <td>27.26</td>\n",
       "      <td>28.040001</td>\n",
       "      <td>27.790001</td>\n",
       "      <td>downward</td>\n",
       "      <td>NaN</td>\n",
       "      <td>NaN</td>\n",
       "      <td>NaN</td>\n",
       "      <td>0.0</td>\n",
       "      <td>02/01/2020</td>\n",
       "      <td>Oil majors request more Mozambique troops afte...</td>\n",
       "      <td>0.5</td>\n",
       "      <td>0.5000</td>\n",
       "      <td>Positive</td>\n",
       "    </tr>\n",
       "    <tr>\n",
       "      <th>3</th>\n",
       "      <td>2000.0</td>\n",
       "      <td>January</td>\n",
       "      <td>2000-01-09</td>\n",
       "      <td>Sunday</td>\n",
       "      <td>7.0</td>\n",
       "      <td>33.049999</td>\n",
       "      <td>32.75</td>\n",
       "      <td>33.450001</td>\n",
       "      <td>33.380001</td>\n",
       "      <td>downward</td>\n",
       "      <td>NaN</td>\n",
       "      <td>NaN</td>\n",
       "      <td>NaN</td>\n",
       "      <td>0.0</td>\n",
       "      <td>02/01/2020</td>\n",
       "      <td>India raises import tax on crude palm oil to 44%</td>\n",
       "      <td>-0.7</td>\n",
       "      <td>1.0000</td>\n",
       "      <td>Negative</td>\n",
       "    </tr>\n",
       "    <tr>\n",
       "      <th>4</th>\n",
       "      <td>2000.0</td>\n",
       "      <td>January</td>\n",
       "      <td>2000-01-11</td>\n",
       "      <td>Tuesday</td>\n",
       "      <td>2.0</td>\n",
       "      <td>33.150002</td>\n",
       "      <td>32.82</td>\n",
       "      <td>33.750000</td>\n",
       "      <td>33.200001</td>\n",
       "      <td>upward</td>\n",
       "      <td>NaN</td>\n",
       "      <td>NaN</td>\n",
       "      <td>NaN</td>\n",
       "      <td>0.0</td>\n",
       "      <td>03/01/2020</td>\n",
       "      <td>Russia's Putin says current oil prices acceptable</td>\n",
       "      <td>0.0</td>\n",
       "      <td>0.4000</td>\n",
       "      <td>Neutral</td>\n",
       "    </tr>\n",
       "  </tbody>\n",
       "</table>\n",
       "</div>"
      ],
      "text/plain": [
       "     year    month        Date        day  day_no       Open    Low  \\\n",
       "0  2000.0  January  2000-01-05  Wednesday     3.0  25.549999  25.50   \n",
       "1  2000.0  January  2000-01-06   Thursday     4.0  29.400000  29.23   \n",
       "2  2000.0  January  2000-01-08   Saturday     6.0  27.549999  27.26   \n",
       "3  2000.0  January  2000-01-09     Sunday     7.0  33.049999  32.75   \n",
       "4  2000.0  January  2000-01-11    Tuesday     2.0  33.150002  32.82   \n",
       "\n",
       "        High      Close     trend  open_equals_closing  all_day_maintain  \\\n",
       "0  26.000000  25.870001  downward                  NaN               NaN   \n",
       "1  30.350000  30.100000  downward                  NaN               NaN   \n",
       "2  28.040001  27.790001  downward                  NaN               NaN   \n",
       "3  33.450001  33.380001  downward                  NaN               NaN   \n",
       "4  33.750000  33.200001    upward                  NaN               NaN   \n",
       "\n",
       "   closing_low  closing_high    DateTime  \\\n",
       "0          NaN           0.0  01/01/2020   \n",
       "1          NaN           0.0  02/01/2020   \n",
       "2          NaN           0.0  02/01/2020   \n",
       "3          NaN           0.0  02/01/2020   \n",
       "4          NaN           0.0  03/01/2020   \n",
       "\n",
       "                                       news_headline  polarity  subjectivity  \\\n",
       "0  Johan Sverdrup: Norway’s big bet on a rosy fut...       0.0        0.1125   \n",
       "1  India exempts very low sulphur fuel oil from i...       0.0        0.3900   \n",
       "2  Oil majors request more Mozambique troops afte...       0.5        0.5000   \n",
       "3   India raises import tax on crude palm oil to 44%      -0.7        1.0000   \n",
       "4  Russia's Putin says current oil prices acceptable       0.0        0.4000   \n",
       "\n",
       "  polarity_description  \n",
       "0              Neutral  \n",
       "1              Neutral  \n",
       "2             Positive  \n",
       "3             Negative  \n",
       "4              Neutral  "
      ]
     },
     "execution_count": 19,
     "metadata": {},
     "output_type": "execute_result"
    },
    {
     "name": "stdout",
     "output_type": "stream",
     "text": [
      "Executing shutdown...\n"
     ]
    },
    {
     "name": "stderr",
     "output_type": "stream",
     "text": [
      "2020-06-15 23:24:39,916 - INFO     - Executing shutdown...\n"
     ]
    }
   ],
   "source": [
    "# Data Integration\n",
    "\n",
    "frames = [oildata, newsdata]\n",
    "\n",
    "data = pd.concat(frames, axis=1).reindex(oildata.index)\n",
    "\n",
    "data.head()"
   ]
  },
  {
   "cell_type": "code",
   "execution_count": 20,
   "metadata": {},
   "outputs": [
    {
     "data": {
      "text/html": [
       "\n",
       "        <iframe\n",
       "            width=\"100%\"\n",
       "            height=\"475\"\n",
       "            src=\"http://Nurullainy-MacBook-Pro.local:40000/dtale/iframe/1\"\n",
       "            frameborder=\"0\"\n",
       "            allowfullscreen\n",
       "        ></iframe>\n",
       "        "
      ],
      "text/plain": [
       "<IPython.lib.display.IFrame at 0x120558290>"
      ]
     },
     "metadata": {},
     "output_type": "display_data"
    },
    {
     "data": {
      "text/plain": []
     },
     "execution_count": 20,
     "metadata": {},
     "output_type": "execute_result"
    }
   ],
   "source": [
    "# Dtale Combine \n",
    "\n",
    "dtale.show(data, ignore_duplicate=True)"
   ]
  },
  {
   "cell_type": "code",
   "execution_count": null,
   "metadata": {},
   "outputs": [],
   "source": []
  }
 ],
 "metadata": {
  "kernelspec": {
   "display_name": "Python 3",
   "language": "python",
   "name": "python3"
  },
  "language_info": {
   "codemirror_mode": {
    "name": "ipython",
    "version": 3
   },
   "file_extension": ".py",
   "mimetype": "text/x-python",
   "name": "python",
   "nbconvert_exporter": "python",
   "pygments_lexer": "ipython3",
   "version": "3.6.5"
  }
 },
 "nbformat": 4,
 "nbformat_minor": 4
}
