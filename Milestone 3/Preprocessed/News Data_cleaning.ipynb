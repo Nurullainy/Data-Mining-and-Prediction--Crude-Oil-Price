{
 "cells": [
  {
   "cell_type": "code",
   "execution_count": 5,
   "metadata": {},
   "outputs": [],
   "source": [
    "import pandas as pd\n"
   ]
  },
  {
   "cell_type": "code",
   "execution_count": 6,
   "metadata": {},
   "outputs": [],
   "source": [
    "newsdata = pd.read_csv('news_raw.csv')"
   ]
  },
  {
   "cell_type": "code",
   "execution_count": 7,
   "metadata": {},
   "outputs": [
    {
     "data": {
      "text/html": [
       "<div>\n",
       "<style scoped>\n",
       "    .dataframe tbody tr th:only-of-type {\n",
       "        vertical-align: middle;\n",
       "    }\n",
       "\n",
       "    .dataframe tbody tr th {\n",
       "        vertical-align: top;\n",
       "    }\n",
       "\n",
       "    .dataframe thead th {\n",
       "        text-align: right;\n",
       "    }\n",
       "</style>\n",
       "<table border=\"1\" class=\"dataframe\">\n",
       "  <thead>\n",
       "    <tr style=\"text-align: right;\">\n",
       "      <th></th>\n",
       "      <th>DateTime</th>\n",
       "      <th>news_headline</th>\n",
       "    </tr>\n",
       "  </thead>\n",
       "  <tbody>\n",
       "    <tr>\n",
       "      <th>0</th>\n",
       "      <td>12:32 AM06/03/2020 12:32:41 AM UTC-0400</td>\n",
       "      <td>BlackRock focuses on China credit, oil and tra...</td>\n",
       "    </tr>\n",
       "    <tr>\n",
       "      <th>1</th>\n",
       "      <td>06/02/2020</td>\n",
       "      <td>UPDATE 1-U.S. shale producers begin restoring ...</td>\n",
       "    </tr>\n",
       "    <tr>\n",
       "      <th>2</th>\n",
       "      <td>06/02/2020</td>\n",
       "      <td>UPDATE 1-U.S. sanctions four shipping firms fo...</td>\n",
       "    </tr>\n",
       "    <tr>\n",
       "      <th>3</th>\n",
       "      <td>06/02/2020</td>\n",
       "      <td>Solar power to remain 'important and consisten...</td>\n",
       "    </tr>\n",
       "    <tr>\n",
       "      <th>4</th>\n",
       "      <td>06/02/2020</td>\n",
       "      <td>Record gold price against Aussie dollar impact...</td>\n",
       "    </tr>\n",
       "    <tr>\n",
       "      <th>5</th>\n",
       "      <td>06/02/2020</td>\n",
       "      <td>Contact Gold Receives Permits for Drilling at ...</td>\n",
       "    </tr>\n",
       "    <tr>\n",
       "      <th>6</th>\n",
       "      <td>06/02/2020</td>\n",
       "      <td>Oil prices rise ahead of OPEC+ meeting on exte...</td>\n",
       "    </tr>\n",
       "    <tr>\n",
       "      <th>7</th>\n",
       "      <td>06/01/2020</td>\n",
       "      <td>U.S. appeals court: Volkswagen may face 'enorm...</td>\n",
       "    </tr>\n",
       "    <tr>\n",
       "      <th>8</th>\n",
       "      <td>06/01/2020</td>\n",
       "      <td>Is Kinross Gold (KGC) a Great Value Stock Righ...</td>\n",
       "    </tr>\n",
       "    <tr>\n",
       "      <th>9</th>\n",
       "      <td>06/01/2020</td>\n",
       "      <td>Zacks.com featured highlights include: B&amp;G Foo...</td>\n",
       "    </tr>\n",
       "  </tbody>\n",
       "</table>\n",
       "</div>"
      ],
      "text/plain": [
       "                                  DateTime  \\\n",
       "0  12:32 AM06/03/2020 12:32:41 AM UTC-0400   \n",
       "1                               06/02/2020   \n",
       "2                               06/02/2020   \n",
       "3                               06/02/2020   \n",
       "4                               06/02/2020   \n",
       "5                               06/02/2020   \n",
       "6                               06/02/2020   \n",
       "7                               06/01/2020   \n",
       "8                               06/01/2020   \n",
       "9                               06/01/2020   \n",
       "\n",
       "                                       news_headline  \n",
       "0  BlackRock focuses on China credit, oil and tra...  \n",
       "1  UPDATE 1-U.S. shale producers begin restoring ...  \n",
       "2  UPDATE 1-U.S. sanctions four shipping firms fo...  \n",
       "3  Solar power to remain 'important and consisten...  \n",
       "4  Record gold price against Aussie dollar impact...  \n",
       "5  Contact Gold Receives Permits for Drilling at ...  \n",
       "6  Oil prices rise ahead of OPEC+ meeting on exte...  \n",
       "7  U.S. appeals court: Volkswagen may face 'enorm...  \n",
       "8  Is Kinross Gold (KGC) a Great Value Stock Righ...  \n",
       "9  Zacks.com featured highlights include: B&G Foo...  "
      ]
     },
     "execution_count": 7,
     "metadata": {},
     "output_type": "execute_result"
    }
   ],
   "source": [
    "newsdata.head(10)"
   ]
  },
  {
   "cell_type": "code",
   "execution_count": 8,
   "metadata": {},
   "outputs": [
    {
     "data": {
      "text/plain": [
       "(16844, 2)"
      ]
     },
     "execution_count": 8,
     "metadata": {},
     "output_type": "execute_result"
    }
   ],
   "source": [
    "# Find dimension of the raw dataset\n",
    "\n",
    "newsdata.shape"
   ]
  },
  {
   "cell_type": "markdown",
   "metadata": {},
   "source": [
    "### Working with missing values"
   ]
  },
  {
   "cell_type": "code",
   "execution_count": 9,
   "metadata": {},
   "outputs": [
    {
     "data": {
      "text/plain": [
       "DateTime         802\n",
       "news_headline    802\n",
       "dtype: int64"
      ]
     },
     "execution_count": 9,
     "metadata": {},
     "output_type": "execute_result"
    }
   ],
   "source": [
    "# Find number of missing values or NaN \n",
    "\n",
    "newsdata.isnull().sum()"
   ]
  },
  {
   "cell_type": "code",
   "execution_count": 10,
   "metadata": {},
   "outputs": [
    {
     "data": {
      "text/html": [
       "<div>\n",
       "<style scoped>\n",
       "    .dataframe tbody tr th:only-of-type {\n",
       "        vertical-align: middle;\n",
       "    }\n",
       "\n",
       "    .dataframe tbody tr th {\n",
       "        vertical-align: top;\n",
       "    }\n",
       "\n",
       "    .dataframe thead th {\n",
       "        text-align: right;\n",
       "    }\n",
       "</style>\n",
       "<table border=\"1\" class=\"dataframe\">\n",
       "  <thead>\n",
       "    <tr style=\"text-align: right;\">\n",
       "      <th></th>\n",
       "      <th>DateTime</th>\n",
       "      <th>news_headline</th>\n",
       "    </tr>\n",
       "  </thead>\n",
       "  <tbody>\n",
       "    <tr>\n",
       "      <th>202</th>\n",
       "      <td>NaN</td>\n",
       "      <td>NaN</td>\n",
       "    </tr>\n",
       "    <tr>\n",
       "      <th>210</th>\n",
       "      <td>NaN</td>\n",
       "      <td>NaN</td>\n",
       "    </tr>\n",
       "    <tr>\n",
       "      <th>228</th>\n",
       "      <td>NaN</td>\n",
       "      <td>NaN</td>\n",
       "    </tr>\n",
       "    <tr>\n",
       "      <th>230</th>\n",
       "      <td>NaN</td>\n",
       "      <td>NaN</td>\n",
       "    </tr>\n",
       "    <tr>\n",
       "      <th>235</th>\n",
       "      <td>NaN</td>\n",
       "      <td>NaN</td>\n",
       "    </tr>\n",
       "  </tbody>\n",
       "</table>\n",
       "</div>"
      ],
      "text/plain": [
       "    DateTime news_headline\n",
       "202      NaN           NaN\n",
       "210      NaN           NaN\n",
       "228      NaN           NaN\n",
       "230      NaN           NaN\n",
       "235      NaN           NaN"
      ]
     },
     "execution_count": 10,
     "metadata": {},
     "output_type": "execute_result"
    }
   ],
   "source": [
    "newsdata[newsdata.DateTime.isnull()].head()"
   ]
  },
  {
   "cell_type": "code",
   "execution_count": 11,
   "metadata": {},
   "outputs": [
    {
     "data": {
      "text/plain": [
       "(16042, 2)"
      ]
     },
     "execution_count": 11,
     "metadata": {},
     "output_type": "execute_result"
    }
   ],
   "source": [
    "# To verify, we only drop if the row have no values at all\n",
    "\n",
    "newsdata.dropna(how='all').shape"
   ]
  },
  {
   "cell_type": "code",
   "execution_count": 12,
   "metadata": {},
   "outputs": [],
   "source": [
    "# Drop duplicates\n",
    "\n",
    "newsdata.drop_duplicates(inplace=True)"
   ]
  },
  {
   "cell_type": "code",
   "execution_count": 13,
   "metadata": {},
   "outputs": [
    {
     "data": {
      "text/plain": [
       "DateTime         0\n",
       "news_headline    0\n",
       "dtype: int64"
      ]
     },
     "execution_count": 13,
     "metadata": {},
     "output_type": "execute_result"
    }
   ],
   "source": [
    "# Drop missing values\n",
    "\n",
    "newsdata = newsdata.dropna(how='all')\n",
    "newsdata.isnull().sum()"
   ]
  },
  {
   "cell_type": "code",
   "execution_count": 14,
   "metadata": {},
   "outputs": [
    {
     "name": "stdout",
     "output_type": "stream",
     "text": [
      "<class 'pandas.core.frame.DataFrame'>\n",
      "Int64Index: 14686 entries, 0 to 16843\n",
      "Data columns (total 2 columns):\n",
      " #   Column         Non-Null Count  Dtype \n",
      "---  ------         --------------  ----- \n",
      " 0   DateTime       14686 non-null  object\n",
      " 1   news_headline  14686 non-null  object\n",
      "dtypes: object(2)\n",
      "memory usage: 344.2+ KB\n",
      "\n",
      "Dataframe dimension: None\n"
     ]
    },
    {
     "data": {
      "text/html": [
       "<div>\n",
       "<style scoped>\n",
       "    .dataframe tbody tr th:only-of-type {\n",
       "        vertical-align: middle;\n",
       "    }\n",
       "\n",
       "    .dataframe tbody tr th {\n",
       "        vertical-align: top;\n",
       "    }\n",
       "\n",
       "    .dataframe thead th {\n",
       "        text-align: right;\n",
       "    }\n",
       "</style>\n",
       "<table border=\"1\" class=\"dataframe\">\n",
       "  <thead>\n",
       "    <tr style=\"text-align: right;\">\n",
       "      <th></th>\n",
       "      <th>DateTime</th>\n",
       "      <th>news_headline</th>\n",
       "    </tr>\n",
       "  </thead>\n",
       "  <tbody>\n",
       "    <tr>\n",
       "      <th>0</th>\n",
       "      <td>12:32 AM06/03/2020 12:32:41 AM UTC-0400</td>\n",
       "      <td>BlackRock focuses on China credit, oil and tra...</td>\n",
       "    </tr>\n",
       "    <tr>\n",
       "      <th>1</th>\n",
       "      <td>06/02/2020</td>\n",
       "      <td>UPDATE 1-U.S. shale producers begin restoring ...</td>\n",
       "    </tr>\n",
       "    <tr>\n",
       "      <th>2</th>\n",
       "      <td>06/02/2020</td>\n",
       "      <td>UPDATE 1-U.S. sanctions four shipping firms fo...</td>\n",
       "    </tr>\n",
       "    <tr>\n",
       "      <th>3</th>\n",
       "      <td>06/02/2020</td>\n",
       "      <td>Solar power to remain 'important and consisten...</td>\n",
       "    </tr>\n",
       "    <tr>\n",
       "      <th>4</th>\n",
       "      <td>06/02/2020</td>\n",
       "      <td>Record gold price against Aussie dollar impact...</td>\n",
       "    </tr>\n",
       "  </tbody>\n",
       "</table>\n",
       "</div>"
      ],
      "text/plain": [
       "                                  DateTime  \\\n",
       "0  12:32 AM06/03/2020 12:32:41 AM UTC-0400   \n",
       "1                               06/02/2020   \n",
       "2                               06/02/2020   \n",
       "3                               06/02/2020   \n",
       "4                               06/02/2020   \n",
       "\n",
       "                                       news_headline  \n",
       "0  BlackRock focuses on China credit, oil and tra...  \n",
       "1  UPDATE 1-U.S. shale producers begin restoring ...  \n",
       "2  UPDATE 1-U.S. sanctions four shipping firms fo...  \n",
       "3  Solar power to remain 'important and consisten...  \n",
       "4  Record gold price against Aussie dollar impact...  "
      ]
     },
     "execution_count": 14,
     "metadata": {},
     "output_type": "execute_result"
    }
   ],
   "source": [
    "print(\"\\nDataframe dimension:\", newsdata.info())\n",
    "newsdata.head()"
   ]
  },
  {
   "cell_type": "code",
   "execution_count": 15,
   "metadata": {},
   "outputs": [
    {
     "data": {
      "text/html": [
       "<div>\n",
       "<style scoped>\n",
       "    .dataframe tbody tr th:only-of-type {\n",
       "        vertical-align: middle;\n",
       "    }\n",
       "\n",
       "    .dataframe tbody tr th {\n",
       "        vertical-align: top;\n",
       "    }\n",
       "\n",
       "    .dataframe thead th {\n",
       "        text-align: right;\n",
       "    }\n",
       "</style>\n",
       "<table border=\"1\" class=\"dataframe\">\n",
       "  <thead>\n",
       "    <tr style=\"text-align: right;\">\n",
       "      <th></th>\n",
       "      <th>DateTime</th>\n",
       "      <th>news_headline</th>\n",
       "    </tr>\n",
       "  </thead>\n",
       "  <tbody>\n",
       "    <tr>\n",
       "      <th>1</th>\n",
       "      <td>06/02/2020</td>\n",
       "      <td>UPDATE 1-U.S. shale producers begin restoring ...</td>\n",
       "    </tr>\n",
       "    <tr>\n",
       "      <th>2</th>\n",
       "      <td>06/02/2020</td>\n",
       "      <td>UPDATE 1-U.S. sanctions four shipping firms fo...</td>\n",
       "    </tr>\n",
       "    <tr>\n",
       "      <th>3</th>\n",
       "      <td>06/02/2020</td>\n",
       "      <td>Solar power to remain 'important and consisten...</td>\n",
       "    </tr>\n",
       "    <tr>\n",
       "      <th>4</th>\n",
       "      <td>06/02/2020</td>\n",
       "      <td>Record gold price against Aussie dollar impact...</td>\n",
       "    </tr>\n",
       "    <tr>\n",
       "      <th>5</th>\n",
       "      <td>06/02/2020</td>\n",
       "      <td>Contact Gold Receives Permits for Drilling at ...</td>\n",
       "    </tr>\n",
       "  </tbody>\n",
       "</table>\n",
       "</div>"
      ],
      "text/plain": [
       "     DateTime                                      news_headline\n",
       "1  06/02/2020  UPDATE 1-U.S. shale producers begin restoring ...\n",
       "2  06/02/2020  UPDATE 1-U.S. sanctions four shipping firms fo...\n",
       "3  06/02/2020  Solar power to remain 'important and consisten...\n",
       "4  06/02/2020  Record gold price against Aussie dollar impact...\n",
       "5  06/02/2020  Contact Gold Receives Permits for Drilling at ..."
      ]
     },
     "execution_count": 15,
     "metadata": {},
     "output_type": "execute_result"
    }
   ],
   "source": [
    "newsdata = newsdata.loc[newsdata.DateTime.str.len() <11] # slicing row for long date format\n",
    "newsdata.head()\n"
   ]
  },
  {
   "cell_type": "code",
   "execution_count": 19,
   "metadata": {},
   "outputs": [],
   "source": [
    "# Change Date format to string\n",
    "\n",
    "newsdata['DateTime'] = pd.to_datetime(newsdata.DateTime)\n",
    "newsdata['DateTime'] = newsdata['DateTime'].dt.strftime('%d-%m-%Y')\n",
    "newsdata.rename(columns={'DateTime':'Date'}, inplace=True)"
   ]
  },
  {
   "cell_type": "code",
   "execution_count": 20,
   "metadata": {},
   "outputs": [],
   "source": [
    "# Change DemCluster from integer to nominal/str\n",
    "\n",
    "newsdata['news_headline'] = newsdata['news_headline'].astype(str)"
   ]
  },
  {
   "cell_type": "code",
   "execution_count": 21,
   "metadata": {},
   "outputs": [
    {
     "name": "stdout",
     "output_type": "stream",
     "text": [
      "<class 'pandas.core.frame.DataFrame'>\n",
      "Int64Index: 14684 entries, 1 to 16843\n",
      "Data columns (total 2 columns):\n",
      " #   Column         Non-Null Count  Dtype \n",
      "---  ------         --------------  ----- \n",
      " 0   Date           14684 non-null  object\n",
      " 1   news_headline  14684 non-null  object\n",
      "dtypes: object(2)\n",
      "memory usage: 344.2+ KB\n",
      "None\n"
     ]
    },
    {
     "data": {
      "text/html": [
       "<div>\n",
       "<style scoped>\n",
       "    .dataframe tbody tr th:only-of-type {\n",
       "        vertical-align: middle;\n",
       "    }\n",
       "\n",
       "    .dataframe tbody tr th {\n",
       "        vertical-align: top;\n",
       "    }\n",
       "\n",
       "    .dataframe thead th {\n",
       "        text-align: right;\n",
       "    }\n",
       "</style>\n",
       "<table border=\"1\" class=\"dataframe\">\n",
       "  <thead>\n",
       "    <tr style=\"text-align: right;\">\n",
       "      <th></th>\n",
       "      <th>Date</th>\n",
       "      <th>news_headline</th>\n",
       "    </tr>\n",
       "  </thead>\n",
       "  <tbody>\n",
       "    <tr>\n",
       "      <th>1</th>\n",
       "      <td>02-06-2020</td>\n",
       "      <td>UPDATE 1-U.S. shale producers begin restoring ...</td>\n",
       "    </tr>\n",
       "    <tr>\n",
       "      <th>2</th>\n",
       "      <td>02-06-2020</td>\n",
       "      <td>UPDATE 1-U.S. sanctions four shipping firms fo...</td>\n",
       "    </tr>\n",
       "    <tr>\n",
       "      <th>3</th>\n",
       "      <td>02-06-2020</td>\n",
       "      <td>Solar power to remain 'important and consisten...</td>\n",
       "    </tr>\n",
       "    <tr>\n",
       "      <th>4</th>\n",
       "      <td>02-06-2020</td>\n",
       "      <td>Record gold price against Aussie dollar impact...</td>\n",
       "    </tr>\n",
       "    <tr>\n",
       "      <th>5</th>\n",
       "      <td>02-06-2020</td>\n",
       "      <td>Contact Gold Receives Permits for Drilling at ...</td>\n",
       "    </tr>\n",
       "  </tbody>\n",
       "</table>\n",
       "</div>"
      ],
      "text/plain": [
       "         Date                                      news_headline\n",
       "1  02-06-2020  UPDATE 1-U.S. shale producers begin restoring ...\n",
       "2  02-06-2020  UPDATE 1-U.S. sanctions four shipping firms fo...\n",
       "3  02-06-2020  Solar power to remain 'important and consisten...\n",
       "4  02-06-2020  Record gold price against Aussie dollar impact...\n",
       "5  02-06-2020  Contact Gold Receives Permits for Drilling at ..."
      ]
     },
     "execution_count": 21,
     "metadata": {},
     "output_type": "execute_result"
    }
   ],
   "source": [
    "print(newsdata.info())\n",
    "newsdata.head()"
   ]
  },
  {
   "cell_type": "code",
   "execution_count": 22,
   "metadata": {},
   "outputs": [],
   "source": [
    "# Export data as csv file\n",
    "\n",
    "newsdata.to_csv('/Volumes/Lainy 1T WD/WQD7005 Data Mining /Assignment /M3 - Accessing Hive /Preprocessing/news_preprocessed.csv', \n",
    "               index=False)"
   ]
  },
  {
   "cell_type": "code",
   "execution_count": null,
   "metadata": {},
   "outputs": [],
   "source": []
  }
 ],
 "metadata": {
  "kernelspec": {
   "display_name": "Python 3",
   "language": "python",
   "name": "python3"
  },
  "language_info": {
   "codemirror_mode": {
    "name": "ipython",
    "version": 3
   },
   "file_extension": ".py",
   "mimetype": "text/x-python",
   "name": "python",
   "nbconvert_exporter": "python",
   "pygments_lexer": "ipython3",
   "version": "3.7.7"
  }
 },
 "nbformat": 4,
 "nbformat_minor": 4
}
