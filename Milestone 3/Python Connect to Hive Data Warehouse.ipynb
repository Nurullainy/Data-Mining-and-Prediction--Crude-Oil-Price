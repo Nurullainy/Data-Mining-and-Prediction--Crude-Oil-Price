{
 "cells": [
  {
   "cell_type": "markdown",
   "metadata": {},
   "source": [
    "## Nurullainy binti Mat Rashid \n",
    "### Milestone 3: Accessing Hive Data Warehouse\n"
   ]
  },
  {
   "cell_type": "code",
   "execution_count": 9,
   "metadata": {},
   "outputs": [],
   "source": [
    "from pyhive import hive\n",
    "import pandas as pd"
   ]
  },
  {
   "cell_type": "code",
   "execution_count": 10,
   "metadata": {},
   "outputs": [],
   "source": [
    "#Create Hive connection \n",
    "\n",
    "conn = hive.Connection(host=\"localhost\", port=10000)"
   ]
  },
  {
   "cell_type": "code",
   "execution_count": 17,
   "metadata": {},
   "outputs": [
    {
     "data": {
      "text/html": [
       "<div>\n",
       "<style scoped>\n",
       "    .dataframe tbody tr th:only-of-type {\n",
       "        vertical-align: middle;\n",
       "    }\n",
       "\n",
       "    .dataframe tbody tr th {\n",
       "        vertical-align: top;\n",
       "    }\n",
       "\n",
       "    .dataframe thead th {\n",
       "        text-align: right;\n",
       "    }\n",
       "</style>\n",
       "<table border=\"1\" class=\"dataframe\">\n",
       "  <thead>\n",
       "    <tr style=\"text-align: right;\">\n",
       "      <th></th>\n",
       "      <th>oilprices.dateoil</th>\n",
       "      <th>oilprices.openprice</th>\n",
       "      <th>oilprices.highprice</th>\n",
       "      <th>oilprices.lowprice</th>\n",
       "      <th>oilprices.closeprice</th>\n",
       "      <th>oilprices.adjustedprice</th>\n",
       "      <th>oilprices.volume</th>\n",
       "    </tr>\n",
       "  </thead>\n",
       "  <tbody>\n",
       "    <tr>\n",
       "      <th>0</th>\n",
       "      <td>22/03/2000</td>\n",
       "      <td>27.65</td>\n",
       "      <td>28.250000</td>\n",
       "      <td>27.250000</td>\n",
       "      <td>27.459999</td>\n",
       "      <td>27.459999</td>\n",
       "      <td>92302</td>\n",
       "    </tr>\n",
       "    <tr>\n",
       "      <th>1</th>\n",
       "      <td>23/03/2000</td>\n",
       "      <td>27.65</td>\n",
       "      <td>27.780001</td>\n",
       "      <td>27.160000</td>\n",
       "      <td>27.309999</td>\n",
       "      <td>27.309999</td>\n",
       "      <td>79373</td>\n",
       "    </tr>\n",
       "    <tr>\n",
       "      <th>2</th>\n",
       "      <td>24/03/2000</td>\n",
       "      <td>27.85</td>\n",
       "      <td>28.150000</td>\n",
       "      <td>27.549999</td>\n",
       "      <td>27.980000</td>\n",
       "      <td>27.980000</td>\n",
       "      <td>55693</td>\n",
       "    </tr>\n",
       "    <tr>\n",
       "      <th>3</th>\n",
       "      <td>27/03/2000</td>\n",
       "      <td>27.65</td>\n",
       "      <td>28.020000</td>\n",
       "      <td>27.410000</td>\n",
       "      <td>27.730000</td>\n",
       "      <td>27.730000</td>\n",
       "      <td>59199</td>\n",
       "    </tr>\n",
       "    <tr>\n",
       "      <th>4</th>\n",
       "      <td>28/03/2000</td>\n",
       "      <td>27.60</td>\n",
       "      <td>27.870001</td>\n",
       "      <td>27.000000</td>\n",
       "      <td>27.080000</td>\n",
       "      <td>27.080000</td>\n",
       "      <td>39487</td>\n",
       "    </tr>\n",
       "  </tbody>\n",
       "</table>\n",
       "</div>"
      ],
      "text/plain": [
       "  oilprices.dateoil  oilprices.openprice  oilprices.highprice  \\\n",
       "0        22/03/2000                27.65            28.250000   \n",
       "1        23/03/2000                27.65            27.780001   \n",
       "2        24/03/2000                27.85            28.150000   \n",
       "3        27/03/2000                27.65            28.020000   \n",
       "4        28/03/2000                27.60            27.870001   \n",
       "\n",
       "   oilprices.lowprice  oilprices.closeprice  oilprices.adjustedprice  \\\n",
       "0           27.250000             27.459999                27.459999   \n",
       "1           27.160000             27.309999                27.309999   \n",
       "2           27.549999             27.980000                27.980000   \n",
       "3           27.410000             27.730000                27.730000   \n",
       "4           27.000000             27.080000                27.080000   \n",
       "\n",
       "   oilprices.volume  \n",
       "0             92302  \n",
       "1             79373  \n",
       "2             55693  \n",
       "3             59199  \n",
       "4             39487  "
      ]
     },
     "execution_count": 17,
     "metadata": {},
     "output_type": "execute_result"
    }
   ],
   "source": [
    "# Read Hive table and Create pandas dataframe\n",
    "\n",
    "df = pd.read_sql(\"SELECT * FROM crudeoil_predict.oilprices\", conn)\n",
    "\n",
    "df.head()"
   ]
  },
  {
   "cell_type": "code",
   "execution_count": 14,
   "metadata": {},
   "outputs": [
    {
     "name": "stdout",
     "output_type": "stream",
     "text": [
      "<class 'pandas.core.frame.DataFrame'>\n",
      "RangeIndex: 5053 entries, 0 to 5052\n",
      "Data columns (total 7 columns):\n",
      "oilprices.dateoil          5053 non-null object\n",
      "oilprices.openprice        5053 non-null float64\n",
      "oilprices.highprice        5053 non-null float64\n",
      "oilprices.lowprice         5053 non-null float64\n",
      "oilprices.closeprice       5053 non-null float64\n",
      "oilprices.adjustedprice    5053 non-null float64\n",
      "oilprices.volume           5053 non-null int64\n",
      "dtypes: float64(5), int64(1), object(1)\n",
      "memory usage: 276.4+ KB\n"
     ]
    }
   ],
   "source": [
    "df.info()"
   ]
  },
  {
   "cell_type": "code",
   "execution_count": 18,
   "metadata": {},
   "outputs": [
    {
     "data": {
      "text/plain": [
       "oilprices.dateoil          0\n",
       "oilprices.openprice        0\n",
       "oilprices.highprice        0\n",
       "oilprices.lowprice         0\n",
       "oilprices.closeprice       0\n",
       "oilprices.adjustedprice    0\n",
       "oilprices.volume           0\n",
       "dtype: int64"
      ]
     },
     "execution_count": 18,
     "metadata": {},
     "output_type": "execute_result"
    }
   ],
   "source": [
    "df.isnull().sum()"
   ]
  },
  {
   "cell_type": "code",
   "execution_count": null,
   "metadata": {},
   "outputs": [],
   "source": []
  }
 ],
 "metadata": {
  "kernelspec": {
   "display_name": "Python 3",
   "language": "python",
   "name": "python3"
  },
  "language_info": {
   "codemirror_mode": {
    "name": "ipython",
    "version": 3
   },
   "file_extension": ".py",
   "mimetype": "text/x-python",
   "name": "python",
   "nbconvert_exporter": "python",
   "pygments_lexer": "ipython3",
   "version": "3.6.5"
  }
 },
 "nbformat": 4,
 "nbformat_minor": 2
}
